{
 "cells": [
  {
   "cell_type": "code",
   "execution_count": 1,
   "id": "91fecf11",
   "metadata": {
    "id": "91fecf11"
   },
   "outputs": [],
   "source": [
    "#import the basic libraries\n",
    "import pandas as pd\n",
    "import numpy as np\n",
    "import matplotlib.pyplot as plt"
   ]
  },
  {
   "cell_type": "code",
   "execution_count": 2,
   "id": "d5092023",
   "metadata": {
    "id": "d5092023"
   },
   "outputs": [],
   "source": [
    "pd.options.display.max_rows= None"
   ]
  },
  {
   "cell_type": "code",
   "execution_count": 3,
   "id": "un2Esmri7017",
   "metadata": {
    "id": "un2Esmri7017"
   },
   "outputs": [],
   "source": [
    "import warnings\n",
    "warnings.filterwarnings('ignore')"
   ]
  },
  {
   "cell_type": "code",
   "execution_count": 15,
   "id": "FuRqUC0P7y36",
   "metadata": {
    "id": "FuRqUC0P7y36"
   },
   "outputs": [],
   "source": [
    "#load all the datasets we have created previously\n",
    "\n",
    "load_data_inputs_train= pd.read_csv('Data/loan_data_inputs_train.csv',index_col=0)\n",
    "load_data_targets_train=pd.read_csv('Data/loan_data_targets_train.csv',index_col=0,header=None)\n",
    "load_data_inputs_test=pd.read_csv('Data/loan_data_inputs_test.csv',index_col=0)\n",
    "load_data_targets_test=pd.read_csv('Data/loan_data_targets_test.csv',index_col=0,header=None)\n"
   ]
  },
  {
   "cell_type": "code",
   "execution_count": 12,
   "id": "vl1dgag17-JG",
   "metadata": {
    "colab": {
     "base_uri": "https://localhost:8080/",
     "height": 237
    },
    "executionInfo": {
     "elapsed": 618,
     "status": "ok",
     "timestamp": 1672150626053,
     "user": {
      "displayName": "hrithik salampuria",
      "userId": "05313103097039078266"
     },
     "user_tz": -330
    },
    "id": "vl1dgag17-JG",
    "outputId": "2ec2b172-0e70-4851-cd43-634ff126a4df"
   },
   "outputs": [
    {
     "data": {
      "text/html": [
       "<div>\n",
       "<style scoped>\n",
       "    .dataframe tbody tr th:only-of-type {\n",
       "        vertical-align: middle;\n",
       "    }\n",
       "\n",
       "    .dataframe tbody tr th {\n",
       "        vertical-align: top;\n",
       "    }\n",
       "\n",
       "    .dataframe thead th {\n",
       "        text-align: right;\n",
       "    }\n",
       "</style>\n",
       "<table border=\"1\" class=\"dataframe\">\n",
       "  <thead>\n",
       "    <tr style=\"text-align: right;\">\n",
       "      <th></th>\n",
       "      <th>1</th>\n",
       "    </tr>\n",
       "    <tr>\n",
       "      <th>0</th>\n",
       "      <th></th>\n",
       "    </tr>\n",
       "  </thead>\n",
       "  <tbody>\n",
       "    <tr>\n",
       "      <th>NaN</th>\n",
       "      <td>good_bad</td>\n",
       "    </tr>\n",
       "    <tr>\n",
       "      <th>427211.0</th>\n",
       "      <td>1</td>\n",
       "    </tr>\n",
       "    <tr>\n",
       "      <th>206088.0</th>\n",
       "      <td>1</td>\n",
       "    </tr>\n",
       "    <tr>\n",
       "      <th>136020.0</th>\n",
       "      <td>1</td>\n",
       "    </tr>\n",
       "    <tr>\n",
       "      <th>412305.0</th>\n",
       "      <td>0</td>\n",
       "    </tr>\n",
       "  </tbody>\n",
       "</table>\n",
       "</div>"
      ],
      "text/plain": [
       "                 1\n",
       "0                 \n",
       "NaN       good_bad\n",
       "427211.0         1\n",
       "206088.0         1\n",
       "136020.0         1\n",
       "412305.0         0"
      ]
     },
     "execution_count": 12,
     "metadata": {},
     "output_type": "execute_result"
    }
   ],
   "source": [
    "#print the head of load_data_targets\n",
    "load_data_targets_train.head()"
   ]
  },
  {
   "cell_type": "code",
   "execution_count": 16,
   "id": "f4022839",
   "metadata": {
    "id": "f4022839"
   },
   "outputs": [],
   "source": [
    "#drop the first row as it is string\n",
    "load_data_targets_train=load_data_targets_train.drop(load_data_targets_train.index[0])"
   ]
  },
  {
   "cell_type": "code",
   "execution_count": 24,
   "id": "dae4e358",
   "metadata": {
    "colab": {
     "base_uri": "https://localhost:8080/"
    },
    "executionInfo": {
     "elapsed": 2,
     "status": "ok",
     "timestamp": 1672150859975,
     "user": {
      "displayName": "hrithik salampuria",
      "userId": "05313103097039078266"
     },
     "user_tz": -330
    },
    "id": "dae4e358",
    "outputId": "2e5ec137-0f4f-45af-aa60-55bdfa11bb58"
   },
   "outputs": [
    {
     "data": {
      "text/html": [
       "<div>\n",
       "<style scoped>\n",
       "    .dataframe tbody tr th:only-of-type {\n",
       "        vertical-align: middle;\n",
       "    }\n",
       "\n",
       "    .dataframe tbody tr th {\n",
       "        vertical-align: top;\n",
       "    }\n",
       "\n",
       "    .dataframe thead th {\n",
       "        text-align: right;\n",
       "    }\n",
       "</style>\n",
       "<table border=\"1\" class=\"dataframe\">\n",
       "  <thead>\n",
       "    <tr style=\"text-align: right;\">\n",
       "      <th></th>\n",
       "      <th>1</th>\n",
       "    </tr>\n",
       "    <tr>\n",
       "      <th>0</th>\n",
       "      <th></th>\n",
       "    </tr>\n",
       "  </thead>\n",
       "  <tbody>\n",
       "    <tr>\n",
       "      <th>427211.0</th>\n",
       "      <td>1</td>\n",
       "    </tr>\n",
       "    <tr>\n",
       "      <th>206088.0</th>\n",
       "      <td>1</td>\n",
       "    </tr>\n",
       "    <tr>\n",
       "      <th>136020.0</th>\n",
       "      <td>1</td>\n",
       "    </tr>\n",
       "    <tr>\n",
       "      <th>412305.0</th>\n",
       "      <td>0</td>\n",
       "    </tr>\n",
       "    <tr>\n",
       "      <th>36159.0</th>\n",
       "      <td>0</td>\n",
       "    </tr>\n",
       "  </tbody>\n",
       "</table>\n",
       "</div>"
      ],
      "text/plain": [
       "          1\n",
       "0          \n",
       "427211.0  1\n",
       "206088.0  1\n",
       "136020.0  1\n",
       "412305.0  0\n",
       "36159.0   0"
      ]
     },
     "execution_count": 24,
     "metadata": {},
     "output_type": "execute_result"
    }
   ],
   "source": [
    "#view the shape of load_data_inputs_train dataframe\n",
    "load_data_targets_train.head()"
   ]
  },
  {
   "cell_type": "code",
   "execution_count": 20,
   "id": "6f5d54ae",
   "metadata": {
    "id": "6f5d54ae",
    "outputId": "dc7bcc77-94d1-4ccb-d801-dc5bb2cf497b"
   },
   "outputs": [
    {
     "data": {
      "text/plain": [
       "(373028, 1)"
      ]
     },
     "execution_count": 20,
     "metadata": {},
     "output_type": "execute_result"
    }
   ],
   "source": [
    "#view the shape ofload_data_targets_train dataframe\n",
    "load_data_targets_train.shape"
   ]
  },
  {
   "cell_type": "code",
   "execution_count": 21,
   "id": "c100fe4c",
   "metadata": {
    "id": "c100fe4c"
   },
   "outputs": [],
   "source": [
    "#select only the important features we have created before in preprocessing steps and create a list of those features\n",
    "\n",
    "feature_selection=[\n",
    "'grade:A',\n",
    "'grade:B',\n",
    "'grade:C',\n",
    "'grade:D',\n",
    "'grade:E',\n",
    "'grade:F',\n",
    "'grade:G',\n",
    "'home_ownership:RENT_OTHER_NONE_ANY',\n",
    "'home_ownership:OWN',\n",
    "'home_ownership:MORTGAGE',\n",
    "'addr_state:ND_NE_IA_NC_FL_HI_AL',\n",
    "'addr_state:NM_VA',\n",
    "'addr_state:OK_TN_MO_LA_MD_NC',\n",
    "'addr_state:UT_KY_AZ_NJ',\n",
    "'addr_state:AR_MI_PA_OH_MN',\n",
    "'addr_state:RI_MA_DE_SD_IN',\n",
    "'addr_state:GA_WA_OR',\n",
    "'addr_state:WI_MT',\n",
    "'addr_state:IL_CT',\n",
    "'addr_state:KS_SC_CO_VT_AK_MS',\n",
    "'addr_state:WV_NH_WY_DC_ME_ID',\n",
    "'verification_status:Verified',\n",
    "'verification_status:Source Verified',\n",
    "'verification_status:Not Verified',\n",
    "    'purpose:educ_sm_b_wedd_ren_en_mov_house',\n",
    "    'purpose:small_business',\n",
    "    'purpose:educational',\n",
    "    'purpose:renewable_energy',\n",
    "    'purpose:moving',\n",
    "    'purpose:house',\n",
    "    'purpose:other',\n",
    "    'purpose:medical',\n",
    "    'purpose:wedding',\n",
    "    'purpose:vacation',\n",
    "    'purpose:debt_consolidation',\n",
    "    'purpose:home_improvement',\n",
    "    'purpose:major_purchase',\n",
    "    'purpose:car',\n",
    "    'purpose:credit_card',\n",
    "    'initial_list_status:f',\n",
    "    'initial_list_status:w',\n",
    "'term:36',\n",
    "'term:60',\n",
    "'emp_length:0',\n",
    "'emp_length:1',\n",
    "'emp_length:2-4',\n",
    "'emp_length:5-6',\n",
    "'emp_length:7-9',\n",
    "'emp_length:10',\n",
    "'mths_since_issued_date:<38',\n",
    "'mths_since_issued_date:38-39',\n",
    "'mths_since_issued_date:40-41',\n",
    "'mths_since_issued_date:42-48',\n",
    "'mths_since_issued_date:49-52',\n",
    "'mths_since_issued_date:53-64',\n",
    "'mths_since_issued_date:65-84',\n",
    "'mths_since_issued_date:>84',\n",
    "'int_rate:<9.548',\n",
    "'int_rate:9.548-12.025',\n",
    "'int_rate:12.025-15.74',\n",
    "'int_rate:15.74-20.281',\n",
    "'int_rate:20.281',\n",
    "    'mths_since_earliest_cr_line:<140',\n",
    "    'mths_since_earliest_cr_line:140-239',\n",
    "    'mths_since_earliest_cr_line:240-339',\n",
    "    'mths_since_earliest_cr_line:340-439',\n",
    "    'mths_since_earliest_cr_line:440-539',\n",
    "    'mths_since_earliest_cr_line:540-600',\n",
    "    'mths_since_earliest_cr_line:>600',\n",
    "    'delinq_2yrs:0',\n",
    "    'delinq_2yrs:0-3',\n",
    "    'delinq_2yrs:3-7',\n",
    "    'delinq_2yrs:7-9',\n",
    "    'delinq_2yrs:9-11',\n",
    "    'delinq_2yrs:11-12',\n",
    "    'delinq_2yrs:12-18',\n",
    "    'delinq_2yrs:>18',\n",
    "    'inq_last_6mths:0',\n",
    "    'inq_last_6mths:0-3',\n",
    "    'inq_last_6mths:3-7',\n",
    "    'inq_last_6mths:7-9',\n",
    "    'inq_last_6mths:9-11',\n",
    "    'inq_last_6mths:11-12',\n",
    "    'inq_last_6mths:12-18',\n",
    "    'inq_last_6mths:18',\n",
    "    'open_acc:=0',\n",
    "    'open_acc:0-1',\n",
    "    'open_acc:1-4',\n",
    "    'open_acc:4-28',\n",
    "    'open_acc:28-35',\n",
    "    'open_acc:35-45',\n",
    "    'open_acc:>45',\n",
    "    'pub_rec:0-3',\n",
    "    'pub_rec:3-6',\n",
    "    'pub_rec:6-8',\n",
    "    'pub_rec:8',\n",
    "    'total_acc:<0',\n",
    "    'total_acc:0-4',\n",
    "    'total_acc:4-62',\n",
    "    'total_acc:62-72',\n",
    "    'total_acc:72-85',\n",
    "    'total_acc:>85',\n",
    "    'acc_now_delinq:<0',\n",
    "    'acc_now_delinq:0-1',\n",
    "    'acc_now_delinq:1-2',\n",
    "    'acc_now_delinq:2-3',\n",
    "    'acc_now_delinq:3-5',\n",
    "    'acc_now_delinq:>5',\n",
    "'annual_inc:<20k',\n",
    "'annual_inc:20k-30k',\n",
    "'annual_inc:30k-40k',\n",
    "'annual_inc:40k-50k',\n",
    "'annual_inc:50k-60k',\n",
    "'annual_inc:60k-70k',\n",
    "'annual_inc:70k-80k',\n",
    "'annual_inc:80k-90k',\n",
    "'annual_inc:90k-100k',\n",
    "'annual_inc:100k-120k',\n",
    "'annual_inc:120k-140k',\n",
    "'annual_inc:>140k',\n",
    "'total_rev_hi_lim:<=5k',\n",
    "'total_rev_hi_lim:5k_10k',\n",
    "'total_rev_hi_lim:10k_20k',\n",
    "'total_rev_hi_lim:20k_30k',\n",
    "'total_rev_hi_lim:30k_40k',\n",
    "'total_rev_hi_lim:40k_50k',\n",
    "'total_rev_hi_lim:50k_65k',\n",
    "'total_rev_hi_lim:65k_80k',\n",
    "'total_rev_hi_lim:>80k',\n",
    "'dti:<5',\n",
    "'dti:5-10',\n",
    "'dti:10-15',\n",
    "'dti:15-20',\n",
    "'dti:20-25',\n",
    "'dti:25-30',\n",
    "'dti:30-35',\n",
    "'dti:35-40',\n",
    "'dti:>40',\n",
    "'mths_since_last_delinq:Missing',\n",
    "'mths_since_last_delinq:0-3',\n",
    "'mths_since_last_delinq:4-30',\n",
    "'mths_since_last_delinq:31-56',\n",
    "'mths_since_last_delinq:>=57',\n",
    "'mths_since_last_record:Missing',\n",
    "'mths_since_last_record:0-90',\n",
    "'mths_since_last_record:90-120',\n",
    "'mths_since_last_record:120-127',\n",
    "'mths_since_last_record:>=127','loan_amnt','funded_amnt','int_rate','installment','recoveries','total_rec_prncp']\n",
    "\n"
   ]
  },
  {
   "cell_type": "code",
   "execution_count": 26,
   "id": "bcb482ca",
   "metadata": {
    "id": "bcb482ca"
   },
   "outputs": [],
   "source": [
    "#assign them into a inputs_train_with_ref_category with only those columns which are in the list(fetaure selection)\n",
    "load_data_defaults = load_data_inputs_train.reindex(feature_selection, axis='columns')"
   ]
  },
  {
   "cell_type": "code",
   "execution_count": 28,
   "id": "230dd554",
   "metadata": {
    "id": "230dd554",
    "outputId": "eafa967c-5009-4b1a-9563-51a3d6889e2d"
   },
   "outputs": [
    {
     "data": {
      "text/plain": [
       "grade:A                                    0\n",
       "grade:B                                    0\n",
       "grade:C                                    0\n",
       "grade:D                                    0\n",
       "grade:E                                    0\n",
       "grade:F                                    0\n",
       "grade:G                                    0\n",
       "home_ownership:RENT_OTHER_NONE_ANY         0\n",
       "home_ownership:OWN                         0\n",
       "home_ownership:MORTGAGE                    0\n",
       "addr_state:ND_NE_IA_NC_FL_HI_AL            0\n",
       "addr_state:NM_VA                           0\n",
       "addr_state:OK_TN_MO_LA_MD_NC               0\n",
       "addr_state:UT_KY_AZ_NJ                     0\n",
       "addr_state:AR_MI_PA_OH_MN                  0\n",
       "addr_state:RI_MA_DE_SD_IN                  0\n",
       "addr_state:GA_WA_OR                        0\n",
       "addr_state:WI_MT                           0\n",
       "addr_state:IL_CT                           0\n",
       "addr_state:KS_SC_CO_VT_AK_MS               0\n",
       "addr_state:WV_NH_WY_DC_ME_ID               0\n",
       "verification_status:Verified               0\n",
       "verification_status:Source Verified        0\n",
       "verification_status:Not Verified           0\n",
       "purpose:educ_sm_b_wedd_ren_en_mov_house    0\n",
       "purpose:small_business                     0\n",
       "purpose:educational                        0\n",
       "purpose:renewable_energy                   0\n",
       "purpose:moving                             0\n",
       "purpose:house                              0\n",
       "purpose:other                              0\n",
       "purpose:medical                            0\n",
       "purpose:wedding                            0\n",
       "purpose:vacation                           0\n",
       "purpose:debt_consolidation                 0\n",
       "purpose:home_improvement                   0\n",
       "purpose:major_purchase                     0\n",
       "purpose:car                                0\n",
       "purpose:credit_card                        0\n",
       "initial_list_status:f                      0\n",
       "initial_list_status:w                      0\n",
       "term:36                                    0\n",
       "term:60                                    0\n",
       "emp_length:0                               0\n",
       "emp_length:1                               0\n",
       "emp_length:2-4                             0\n",
       "emp_length:5-6                             0\n",
       "emp_length:7-9                             0\n",
       "emp_length:10                              0\n",
       "mths_since_issued_date:<38                 0\n",
       "mths_since_issued_date:38-39               0\n",
       "mths_since_issued_date:40-41               0\n",
       "mths_since_issued_date:42-48               0\n",
       "mths_since_issued_date:49-52               0\n",
       "mths_since_issued_date:53-64               0\n",
       "mths_since_issued_date:65-84               0\n",
       "mths_since_issued_date:>84                 0\n",
       "int_rate:<9.548                            0\n",
       "int_rate:9.548-12.025                      0\n",
       "int_rate:12.025-15.74                      0\n",
       "int_rate:15.74-20.281                      0\n",
       "int_rate:20.281                            0\n",
       "mths_since_earliest_cr_line:<140           0\n",
       "mths_since_earliest_cr_line:140-239        0\n",
       "mths_since_earliest_cr_line:240-339        0\n",
       "mths_since_earliest_cr_line:340-439        0\n",
       "mths_since_earliest_cr_line:440-539        0\n",
       "mths_since_earliest_cr_line:540-600        0\n",
       "mths_since_earliest_cr_line:>600           0\n",
       "delinq_2yrs:0                              0\n",
       "delinq_2yrs:0-3                            0\n",
       "delinq_2yrs:3-7                            0\n",
       "delinq_2yrs:7-9                            0\n",
       "delinq_2yrs:9-11                           0\n",
       "delinq_2yrs:11-12                          0\n",
       "delinq_2yrs:12-18                          0\n",
       "delinq_2yrs:>18                            0\n",
       "inq_last_6mths:0                           0\n",
       "inq_last_6mths:0-3                         0\n",
       "inq_last_6mths:3-7                         0\n",
       "inq_last_6mths:7-9                         0\n",
       "inq_last_6mths:9-11                        0\n",
       "inq_last_6mths:11-12                       0\n",
       "inq_last_6mths:12-18                       0\n",
       "inq_last_6mths:18                          0\n",
       "open_acc:=0                                0\n",
       "open_acc:0-1                               0\n",
       "open_acc:1-4                               0\n",
       "open_acc:4-28                              0\n",
       "open_acc:28-35                             0\n",
       "open_acc:35-45                             0\n",
       "open_acc:>45                               0\n",
       "pub_rec:0-3                                0\n",
       "pub_rec:3-6                                0\n",
       "pub_rec:6-8                                0\n",
       "pub_rec:8                                  0\n",
       "total_acc:<0                               0\n",
       "total_acc:0-4                              0\n",
       "total_acc:4-62                             0\n",
       "total_acc:62-72                            0\n",
       "total_acc:72-85                            0\n",
       "total_acc:>85                              0\n",
       "acc_now_delinq:<0                          0\n",
       "acc_now_delinq:0-1                         0\n",
       "acc_now_delinq:1-2                         0\n",
       "acc_now_delinq:2-3                         0\n",
       "acc_now_delinq:3-5                         0\n",
       "acc_now_delinq:>5                          0\n",
       "annual_inc:<20k                            0\n",
       "annual_inc:20k-30k                         0\n",
       "annual_inc:30k-40k                         0\n",
       "annual_inc:40k-50k                         0\n",
       "annual_inc:50k-60k                         0\n",
       "annual_inc:60k-70k                         0\n",
       "annual_inc:70k-80k                         0\n",
       "annual_inc:80k-90k                         0\n",
       "annual_inc:90k-100k                        0\n",
       "annual_inc:100k-120k                       0\n",
       "annual_inc:120k-140k                       0\n",
       "annual_inc:>140k                           0\n",
       "total_rev_hi_lim:<=5k                      0\n",
       "total_rev_hi_lim:5k_10k                    0\n",
       "total_rev_hi_lim:10k_20k                   0\n",
       "total_rev_hi_lim:20k_30k                   0\n",
       "total_rev_hi_lim:30k_40k                   0\n",
       "total_rev_hi_lim:40k_50k                   0\n",
       "total_rev_hi_lim:50k_65k                   0\n",
       "total_rev_hi_lim:65k_80k                   0\n",
       "total_rev_hi_lim:>80k                      0\n",
       "dti:<5                                     0\n",
       "dti:5-10                                   0\n",
       "dti:10-15                                  0\n",
       "dti:15-20                                  0\n",
       "dti:20-25                                  0\n",
       "dti:25-30                                  0\n",
       "dti:30-35                                  0\n",
       "dti:35-40                                  0\n",
       "dti:>40                                    0\n",
       "mths_since_last_delinq:Missing             0\n",
       "mths_since_last_delinq:0-3                 0\n",
       "mths_since_last_delinq:4-30                0\n",
       "mths_since_last_delinq:31-56               0\n",
       "mths_since_last_delinq:>=57                0\n",
       "mths_since_last_record:Missing             0\n",
       "mths_since_last_record:0-90                0\n",
       "mths_since_last_record:90-120              0\n",
       "mths_since_last_record:120-127             0\n",
       "mths_since_last_record:>=127               0\n",
       "loan_amnt                                  0\n",
       "funded_amnt                                0\n",
       "int_rate                                   0\n",
       "installment                                0\n",
       "recoveries                                 0\n",
       "total_rec_prncp                            0\n",
       "dtype: int64"
      ]
     },
     "execution_count": 28,
     "metadata": {},
     "output_type": "execute_result"
    }
   ],
   "source": [
    "#check for null values in load_data_defaults\n",
    "load_data_defaults.isnull().sum()"
   ]
  },
  {
   "cell_type": "markdown",
   "id": "PdaBg0ScL6Uy",
   "metadata": {
    "id": "PdaBg0ScL6Uy"
   },
   "source": [
    "### Recovery Rate:\n",
    "It is the recovered amount divided by the funded amount"
   ]
  },
  {
   "cell_type": "code",
   "execution_count": null,
   "id": "d69ee3c5",
   "metadata": {
    "id": "d69ee3c5"
   },
   "outputs": [],
   "source": [
    "#create a new column recovery_rate i.e 'recoveries'/'funded_amnt'\n",
    "load_data_defaults['recovery_rate'] = "
   ]
  },
  {
   "cell_type": "code",
   "execution_count": null,
   "id": "421c6e48",
   "metadata": {
    "id": "421c6e48",
    "outputId": "ac62ca1a-9432-4bdd-844d-073cd72be7f6"
   },
   "outputs": [
    {
     "data": {
      "text/plain": [
       "count    40778.000000\n",
       "mean         0.051739\n",
       "std          0.085882\n",
       "min          0.000000\n",
       "25%          0.000000\n",
       "50%          0.000000\n",
       "75%          0.101866\n",
       "max          1.207630\n",
       "Name: recovery_rate, dtype: float64"
      ]
     },
     "execution_count": 21,
     "metadata": {},
     "output_type": "execute_result"
    }
   ],
   "source": [
    "#check the statistics of recovery_rate\n",
    "                                                                                    #recovery rate has to be from 0 to 1"
   ]
  },
  {
   "cell_type": "code",
   "execution_count": null,
   "id": "9ac9ad78",
   "metadata": {
    "id": "9ac9ad78"
   },
   "outputs": [],
   "source": [
    "#convert recovery rate in the range of 0 to 1\n",
    "load_data_defaults['recovery_rate'] = np.where(load_data_defaults['recovery_rate'] > 1,1,load_data_defaults['recovery_rate'])\n",
    "load_data_defaults['recovery_rate'] = np.where(load_data_defaults['recovery_rate'] < 0,0,load_data_defaults['recovery_rate'])"
   ]
  },
  {
   "cell_type": "code",
   "execution_count": null,
   "id": "0f236f9a",
   "metadata": {
    "id": "0f236f9a",
    "outputId": "13c8bef7-7497-466d-8026-d27eb88af4d8"
   },
   "outputs": [
    {
     "data": {
      "text/plain": [
       "count    40778.000000\n",
       "mean         0.051702\n",
       "std          0.085447\n",
       "min          0.000000\n",
       "25%          0.000000\n",
       "50%          0.000000\n",
       "75%          0.101866\n",
       "max          1.000000\n",
       "Name: recovery_rate, dtype: float64"
      ]
     },
     "execution_count": 23,
     "metadata": {},
     "output_type": "execute_result"
    }
   ],
   "source": [
    "#recovery rate 0 to 1\n",
    "\n"
   ]
  },
  {
   "cell_type": "markdown",
   "id": "KFMVMhGGM1a-",
   "metadata": {
    "id": "KFMVMhGGM1a-"
   },
   "source": [
    "### The credit conversion factor (CCF) converts the amount of a free credit line and other off-balance-sheet transactions (with the exception of derivatives) to an EAD (exposure at default) amount."
   ]
  },
  {
   "cell_type": "code",
   "execution_count": null,
   "id": "4fec09b1",
   "metadata": {
    "id": "4fec09b1"
   },
   "outputs": [],
   "source": [
    "#credit conversion factor(CCF)\n",
    "load_data_defaults['CCF'] = (load_data_defaults['funded_amnt'] - load_data_defaults['total_rec_prncp']) / load_data_defaults['funded_amnt']"
   ]
  },
  {
   "cell_type": "code",
   "execution_count": null,
   "id": "2ed64373",
   "metadata": {
    "id": "2ed64373",
    "outputId": "0acd0106-eb42-428c-e305-6f91d1d9b6d9"
   },
   "outputs": [
    {
     "data": {
      "text/plain": [
       "count    40778.000000\n",
       "mean         0.719456\n",
       "std          0.204450\n",
       "min          0.000000\n",
       "25%          0.608267\n",
       "50%          0.769332\n",
       "75%          0.876847\n",
       "max          1.000000\n",
       "Name: CCF, dtype: float64"
      ]
     },
     "execution_count": 25,
     "metadata": {},
     "output_type": "execute_result"
    }
   ],
   "source": [
    "#CCF has to be in the range of 0 to 1\n"
   ]
  },
  {
   "cell_type": "code",
   "execution_count": null,
   "id": "b3a9808f",
   "metadata": {
    "id": "b3a9808f"
   },
   "outputs": [],
   "source": [
    "#import matplotlib and seaborn\n",
    "import matplotlib.pyplot as plt\n",
    "import seaborn as sns\n",
    "sns.set()"
   ]
  },
  {
   "cell_type": "code",
   "execution_count": null,
   "id": "75bc11f1",
   "metadata": {
    "id": "75bc11f1",
    "outputId": "d3af6bcb-f144-4c08-bab5-d9054277427e"
   },
   "outputs": [
    {
     "data": {
      "image/png": "[encoded data removed]",
      "text/plain": [
       "<Figure size 432x288 with 1 Axes>"
      ]
     },
     "metadata": {},
     "output_type": "display_data"
    }
   ],
   "source": [
    "#plot a histogram of recovery_rate with bins=50\n"
   ]
  },
  {
   "cell_type": "code",
   "execution_count": null,
   "id": "7734f21c",
   "metadata": {
    "id": "7734f21c",
    "outputId": "a12bf228-3349-499d-bb9d-9cf6b5b52b73"
   },
   "outputs": [
    {
     "data": {
      "image/png": "[encoded data removed]",
      "text/plain": [
       "<Figure size 432x288 with 1 Axes>"
      ]
     },
     "metadata": {},
     "output_type": "display_data"
    }
   ],
   "source": [
    "#plot a histogram of CCF with 50 bins\n",
    "\n"
   ]
  },
  {
   "cell_type": "code",
   "execution_count": null,
   "id": "5130300e",
   "metadata": {
    "id": "5130300e"
   },
   "outputs": [],
   "source": [
    "#create a new column recovery_rate_0_1...if the recovery_rate is 0 then insert 0 and if it is greater than 0 replace it with 1\n",
    "load_data_defaults['recovery_rate_0_1']  = np.where(load_data_defaults['recovery_rate'] == 0,0,1)"
   ]
  },
  {
   "cell_type": "code",
   "execution_count": null,
   "id": "99220aa4",
   "metadata": {
    "id": "99220aa4",
    "outputId": "e324aed1-fcc2-4cf0-ac74-6522efdf539a"
   },
   "outputs": [
    {
     "data": {
      "text/plain": [
       "0    21276\n",
       "1    19502\n",
       "Name: recovery_rate_0_1, dtype: int64"
      ]
     },
     "execution_count": 32,
     "metadata": {},
     "output_type": "execute_result"
    }
   ],
   "source": [
    "#value_counts of recovery_rate_0_1\n"
   ]
  },
  {
   "cell_type": "markdown",
   "id": "0036c75f",
   "metadata": {
    "id": "0036c75f"
   },
   "source": [
    "# LGD_Model"
   ]
  },
  {
   "cell_type": "markdown",
   "id": "sZ1H6zADN_t7",
   "metadata": {
    "id": "sZ1H6zADN_t7"
   },
   "source": [
    "In LGD model we will basically create 2 models for determining the recovery rate if the recovery rate is 0 or greater than 0:\n",
    "\n",
    "1.we will create a logistic regression model for determining whether the recovery rate is 0 or 1.\n",
    "\n",
    "2.For all the recovery rate greater than 0 we will create a linear regression model to determine how much greater than 0 the value of recovery rate is."
   ]
  },
  {
   "cell_type": "markdown",
   "id": "Z4Fbg_saRdNx",
   "metadata": {
    "id": "Z4Fbg_saRdNx"
   },
   "source": [
    "#### Doing The First part: Stage_1"
   ]
  },
  {
   "cell_type": "code",
   "execution_count": null,
   "id": "89d0127a",
   "metadata": {
    "id": "89d0127a",
    "outputId": "3e2f66c6-5386-4182-f039-ab60b9dff2de"
   },
   "outputs": [
    {
     "data": {
      "text/plain": [
       "Index(['grade:A', 'grade:B', 'grade:C', 'grade:D', 'grade:E', 'grade:F',\n",
       "       'grade:G', 'home_ownership:RENT_OTHER_NONE_ANY', 'home_ownership:OWN',\n",
       "       'home_ownership:MORTGAGE',\n",
       "       ...\n",
       "       'mths_since_last_record:>=127', 'loan_amnt', 'funded_amnt', 'int_rate',\n",
       "       'installment', 'recoveries', 'total_rec_prncp', 'recovery_rate', 'CCF',\n",
       "       'recovery_rate_0_1'],\n",
       "      dtype='object', length=157)"
      ]
     },
     "execution_count": 36,
     "metadata": {},
     "output_type": "execute_result"
    }
   ],
   "source": [
    "#check the column name of load_data_defaults\n"
   ]
  },
  {
   "cell_type": "code",
   "execution_count": null,
   "id": "f8786dad",
   "metadata": {
    "id": "f8786dad"
   },
   "outputs": [],
   "source": [
    "#Train Test split of load_data_defaults \n",
    "from sklearn.model_selection import train_test_split\n",
    "\n",
    "lgd_input_train,lgd_input_test,lgd_target_train,lgd_target_test = train_test_split(load_data_defaults.drop(['recoveries','recovery_rate','recovery_rate_0_1','CCF'],axis=1),load_data_defaults['recovery_rate_0_1'],test_size=0.2,random_state=42)"
   ]
  },
  {
   "cell_type": "code",
   "execution_count": null,
   "id": "07bf4ca4",
   "metadata": {
    "id": "07bf4ca4"
   },
   "outputs": [],
   "source": [
    "#create a list of reference categories selecting only one column from each parent column\n",
    "ref_categories=['grade:G',\n",
    "               'home_ownership:RENT_OTHER_NONE_ANY',\n",
    "               'addr_state:ND_NE_IA_NC_FL_HI_AL',\n",
    "               'verification_status:Verified',\n",
    "                'purpose:educ_sm_b_wedd_ren_en_mov_house',\n",
    "                'initial_list_status:f',\n",
    "                'term:60',\n",
    "                'emp_length:0',\n",
    "                'mths_since_issued_date:>84',\n",
    "                'int_rate:20.281',\n",
    "                'mths_since_earliest_cr_line:<140',\n",
    "                'delinq_2yrs:>18',\n",
    "                'inq_last_6mths:7-9',\n",
    "                'open_acc:=0',\n",
    "                'pub_rec:0-3',\n",
    "                'total_acc:>85',\n",
    "                'acc_now_delinq:<0',\n",
    "                'total_rev_hi_lim:<=5k',\n",
    "                'annual_inc:<20k',\n",
    "                'dti:>40',\n",
    "                'mths_since_last_delinq:0-3',\n",
    "                'mths_since_last_record:Missing'\n",
    "               ]"
   ]
  },
  {
   "cell_type": "code",
   "execution_count": null,
   "id": "bc31ae31",
   "metadata": {
    "id": "bc31ae31"
   },
   "outputs": [],
   "source": [
    "#drop the reference categories from lgd_input_train\n",
    "lgd_input_train = "
   ]
  },
  {
   "cell_type": "code",
   "execution_count": null,
   "id": "625508d5",
   "metadata": {
    "id": "625508d5"
   },
   "outputs": [],
   "source": [
    "#import logistic regression and metrics\n",
    "\n"
   ]
  },
  {
   "cell_type": "code",
   "execution_count": null,
   "id": "31821abb",
   "metadata": {
    "id": "31821abb"
   },
   "outputs": [],
   "source": [
    "#create an object of logistic regression with max_iter=200\n",
    "reg =                                                          #for prediction 0 or 1 via logistic and then how much by linear reg"
   ]
  },
  {
   "cell_type": "code",
   "execution_count": null,
   "id": "6d251d95",
   "metadata": {
    "id": "6d251d95",
    "outputId": "b84516ba-a24f-4256-a230-6542737cd903"
   },
   "outputs": [
    {
     "data": {
      "text/plain": [
       "(32622, 131)"
      ]
     },
     "execution_count": 42,
     "metadata": {},
     "output_type": "execute_result"
    }
   ],
   "source": [
    "#check the shape of lgd_inputs_train\n"
   ]
  },
  {
   "cell_type": "code",
   "execution_count": null,
   "id": "be265679",
   "metadata": {
    "id": "be265679",
    "outputId": "eedd9b6e-b5b1-4994-d426-322ea4daf58c"
   },
   "outputs": [
    {
     "data": {
      "text/plain": [
       "(32622,)"
      ]
     },
     "execution_count": 43,
     "metadata": {},
     "output_type": "execute_result"
    }
   ],
   "source": [
    "#check the shape of lgd_target_train\n"
   ]
  },
  {
   "cell_type": "code",
   "execution_count": null,
   "id": "bf47d93e",
   "metadata": {
    "id": "bf47d93e",
    "outputId": "215ab839-c002-4589-fd90-fdbff7043581"
   },
   "outputs": [
    {
     "data": {
      "text/html": [
       "<style>#sk-container-id-1 {color: black;background-color: white;}#sk-container-id-1 pre{padding: 0;}#sk-container-id-1 div.sk-toggleable {background-color: white;}#sk-container-id-1 label.sk-toggleable__label {cursor: pointer;display: block;width: 100%;margin-bottom: 0;padding: 0.3em;box-sizing: border-box;text-align: center;}#sk-container-id-1 label.sk-toggleable__label-arrow:before {content: \"▸\";float: left;margin-right: 0.25em;color: #696969;}#sk-container-id-1 label.sk-toggleable__label-arrow:hover:before {color: black;}#sk-container-id-1 div.sk-estimator:hover label.sk-toggleable__label-arrow:before {color: black;}#sk-container-id-1 div.sk-toggleable__content {max-height: 0;max-width: 0;overflow: hidden;text-align: left;background-color: #f0f8ff;}#sk-container-id-1 div.sk-toggleable__content pre {margin: 0.2em;color: black;border-radius: 0.25em;background-color: #f0f8ff;}#sk-container-id-1 input.sk-toggleable__control:checked~div.sk-toggleable__content {max-height: 200px;max-width: 100%;overflow: auto;}#sk-container-id-1 input.sk-toggleable__control:checked~label.sk-toggleable__label-arrow:before {content: \"▾\";}#sk-container-id-1 div.sk-estimator input.sk-toggleable__control:checked~label.sk-toggleable__label {background-color: #d4ebff;}#sk-container-id-1 div.sk-label input.sk-toggleable__control:checked~label.sk-toggleable__label {background-color: #d4ebff;}#sk-container-id-1 input.sk-hidden--visually {border: 0;clip: rect(1px 1px 1px 1px);clip: rect(1px, 1px, 1px, 1px);height: 1px;margin: -1px;overflow: hidden;padding: 0;position: absolute;width: 1px;}#sk-container-id-1 div.sk-estimator {font-family: monospace;background-color: #f0f8ff;border: 1px dotted black;border-radius: 0.25em;box-sizing: border-box;margin-bottom: 0.5em;}#sk-container-id-1 div.sk-estimator:hover {background-color: #d4ebff;}#sk-container-id-1 div.sk-parallel-item::after {content: \"\";width: 100%;border-bottom: 1px solid gray;flex-grow: 1;}#sk-container-id-1 div.sk-label:hover label.sk-toggleable__label {background-color: #d4ebff;}#sk-container-id-1 div.sk-serial::before {content: \"\";position: absolute;border-left: 1px solid gray;box-sizing: border-box;top: 0;bottom: 0;left: 50%;z-index: 0;}#sk-container-id-1 div.sk-serial {display: flex;flex-direction: column;align-items: center;background-color: white;padding-right: 0.2em;padding-left: 0.2em;position: relative;}#sk-container-id-1 div.sk-item {position: relative;z-index: 1;}#sk-container-id-1 div.sk-parallel {display: flex;align-items: stretch;justify-content: center;background-color: white;position: relative;}#sk-container-id-1 div.sk-item::before, #sk-container-id-1 div.sk-parallel-item::before {content: \"\";position: absolute;border-left: 1px solid gray;box-sizing: border-box;top: 0;bottom: 0;left: 50%;z-index: -1;}#sk-container-id-1 div.sk-parallel-item {display: flex;flex-direction: column;z-index: 1;position: relative;background-color: white;}#sk-container-id-1 div.sk-parallel-item:first-child::after {align-self: flex-end;width: 50%;}#sk-container-id-1 div.sk-parallel-item:last-child::after {align-self: flex-start;width: 50%;}#sk-container-id-1 div.sk-parallel-item:only-child::after {width: 0;}#sk-container-id-1 div.sk-dashed-wrapped {border: 1px dashed gray;margin: 0 0.4em 0.5em 0.4em;box-sizing: border-box;padding-bottom: 0.4em;background-color: white;}#sk-container-id-1 div.sk-label label {font-family: monospace;font-weight: bold;display: inline-block;line-height: 1.2em;}#sk-container-id-1 div.sk-label-container {text-align: center;}#sk-container-id-1 div.sk-container {/* jupyter's `normalize.less` sets `[hidden] { display: none; }` but bootstrap.min.css set `[hidden] { display: none !important; }` so we also need the `!important` here to be able to override the default hidden behavior on the sphinx rendered scikit-learn.org. See: https://github.com/scikit-learn/scikit-learn/issues/21755 */display: inline-block !important;position: relative;}#sk-container-id-1 div.sk-text-repr-fallback {display: none;}</style><div id=\"sk-container-id-1\" class=\"sk-top-container\"><div class=\"sk-text-repr-fallback\"><pre>LogisticRegression(max_iter=200)</pre><b>In a Jupyter environment, please rerun this cell to show the HTML representation or trust the notebook. <br />On GitHub, the HTML representation is unable to render, please try loading this page with nbviewer.org.</b></div><div class=\"sk-container\" hidden><div class=\"sk-item\"><div class=\"sk-estimator sk-toggleable\"><input class=\"sk-toggleable__control sk-hidden--visually\" id=\"sk-estimator-id-1\" type=\"checkbox\" checked><label for=\"sk-estimator-id-1\" class=\"sk-toggleable__label sk-toggleable__label-arrow\">LogisticRegression</label><div class=\"sk-toggleable__content\"><pre>LogisticRegression(max_iter=200)</pre></div></div></div></div></div>"
      ],
      "text/plain": [
       "LogisticRegression(max_iter=200)"
      ]
     },
     "execution_count": 44,
     "metadata": {},
     "output_type": "execute_result"
    }
   ],
   "source": [
    "#fit the logistic reg model on lgd_inputs_train and lgd_target_train\n",
    "reg.fit(lgd_input_train,lgd_target_train)"
   ]
  },
  {
   "cell_type": "code",
   "execution_count": null,
   "id": "bff0e0a3",
   "metadata": {
    "id": "bff0e0a3"
   },
   "outputs": [],
   "source": [
    "#testing"
   ]
  },
  {
   "cell_type": "code",
   "execution_count": null,
   "id": "bf0c2e70",
   "metadata": {
    "id": "bf0c2e70",
    "outputId": "660c24ad-8551-4b1d-981a-32dee8235eba"
   },
   "outputs": [
    {
     "data": {
      "text/plain": [
       "(8156, 153)"
      ]
     },
     "execution_count": 46,
     "metadata": {},
     "output_type": "execute_result"
    }
   ],
   "source": [
    "#check the shape of lgd_input_test\n"
   ]
  },
  {
   "cell_type": "code",
   "execution_count": null,
   "id": "bdf550d7",
   "metadata": {
    "id": "bdf550d7"
   },
   "outputs": [],
   "source": [
    "#drop the reference categories from lgd_input_test\n",
    "lgd_input_test = "
   ]
  },
  {
   "cell_type": "code",
   "execution_count": null,
   "id": "f2e6640a",
   "metadata": {
    "id": "f2e6640a",
    "outputId": "dbb17be2-4b18-40fd-8c2e-8f6bef8fb3d7"
   },
   "outputs": [
    {
     "data": {
      "text/plain": [
       "(8156, 131)"
      ]
     },
     "execution_count": 48,
     "metadata": {},
     "output_type": "execute_result"
    }
   ],
   "source": [
    "#check the shape of lgd_input_test ---- make sure that the number of columns used in traing is same as the number of columns in testing\n",
    "lgd_input_test.shape"
   ]
  },
  {
   "cell_type": "code",
   "execution_count": null,
   "id": "c8b296d0",
   "metadata": {
    "id": "c8b296d0"
   },
   "outputs": [],
   "source": [
    "#predict the results of lgd_input_test\n",
    "pred = "
   ]
  },
  {
   "cell_type": "code",
   "execution_count": null,
   "id": "ca35ce9e",
   "metadata": {
    "id": "ca35ce9e"
   },
   "outputs": [],
   "source": [
    "#predict the result using predict_proba function\n",
    "prob_pred = reg.predict_proba(lgd_input_test)[:][:,1]"
   ]
  },
  {
   "cell_type": "code",
   "execution_count": null,
   "id": "5b0edaeb",
   "metadata": {
    "id": "5b0edaeb"
   },
   "outputs": [],
   "source": [
    "#create an empty dataframe that will store the final results\n",
    "df_actual_predicted_probs = "
   ]
  },
  {
   "cell_type": "code",
   "execution_count": null,
   "id": "a97dc7e2",
   "metadata": {
    "id": "a97dc7e2"
   },
   "outputs": [],
   "source": [
    "#create 2 columns one will store the pred and other will store the prob_pred\n",
    "df_actual_predicted_probs['lgd_test_outcome'] =\n",
    "df_actual_predicted_probs['lgd_test_proba'] = "
   ]
  },
  {
   "cell_type": "code",
   "execution_count": null,
   "id": "6707a986",
   "metadata": {
    "id": "6707a986",
    "outputId": "1524cdaf-1219-4f71-e86a-14eb00b9acc6"
   },
   "outputs": [
    {
     "data": {
      "text/html": [
       "<div>\n",
       "<style scoped>\n",
       "    .dataframe tbody tr th:only-of-type {\n",
       "        vertical-align: middle;\n",
       "    }\n",
       "\n",
       "    .dataframe tbody tr th {\n",
       "        vertical-align: top;\n",
       "    }\n",
       "\n",
       "    .dataframe thead th {\n",
       "        text-align: right;\n",
       "    }\n",
       "</style>\n",
       "<table border=\"1\" class=\"dataframe\">\n",
       "  <thead>\n",
       "    <tr style=\"text-align: right;\">\n",
       "      <th></th>\n",
       "      <th>lgd_test_outcome</th>\n",
       "      <th>lgd_test_proba</th>\n",
       "    </tr>\n",
       "  </thead>\n",
       "  <tbody>\n",
       "    <tr>\n",
       "      <th>0</th>\n",
       "      <td>1</td>\n",
       "      <td>0.705847</td>\n",
       "    </tr>\n",
       "    <tr>\n",
       "      <th>1</th>\n",
       "      <td>0</td>\n",
       "      <td>0.475725</td>\n",
       "    </tr>\n",
       "    <tr>\n",
       "      <th>2</th>\n",
       "      <td>0</td>\n",
       "      <td>0.462899</td>\n",
       "    </tr>\n",
       "    <tr>\n",
       "      <th>3</th>\n",
       "      <td>1</td>\n",
       "      <td>0.675990</td>\n",
       "    </tr>\n",
       "    <tr>\n",
       "      <th>4</th>\n",
       "      <td>0</td>\n",
       "      <td>0.469459</td>\n",
       "    </tr>\n",
       "  </tbody>\n",
       "</table>\n",
       "</div>"
      ],
      "text/plain": [
       "   lgd_test_outcome  lgd_test_proba\n",
       "0                 1        0.705847\n",
       "1                 0        0.475725\n",
       "2                 0        0.462899\n",
       "3                 1        0.675990\n",
       "4                 0        0.469459"
      ]
     },
     "execution_count": 53,
     "metadata": {},
     "output_type": "execute_result"
    }
   ],
   "source": [
    "#check the head of the dataframe\n"
   ]
  },
  {
   "cell_type": "code",
   "execution_count": null,
   "id": "80491959",
   "metadata": {
    "id": "80491959"
   },
   "outputs": [],
   "source": [
    "#You can also get 0 or 1 by defining a threshold value of prob_pred\n",
    "#tr=0.5\n",
    "#df_actual_predicted_probs['pred'] = np.where(df_actual_predicted_probs['lgd_test_proba'] > tr,1,0) "
   ]
  },
  {
   "cell_type": "code",
   "execution_count": null,
   "id": "78839971",
   "metadata": {
    "id": "78839971",
    "outputId": "a8b79772-d85f-463d-9315-0b8aaf9a6437"
   },
   "outputs": [
    {
     "data": {
      "text/plain": [
       "(8156, 2)"
      ]
     },
     "execution_count": 56,
     "metadata": {},
     "output_type": "execute_result"
    }
   ],
   "source": [
    "#check the shape of df_actual_predicted_probs\n"
   ]
  },
  {
   "cell_type": "code",
   "execution_count": null,
   "id": "28fe5212",
   "metadata": {
    "id": "28fe5212",
    "outputId": "7055733c-10a2-471e-d4bb-532d0caab1c5"
   },
   "outputs": [
    {
     "data": {
      "text/plain": [
       "array([[2855, 1376],\n",
       "       [1170, 2755]], dtype=int64)"
      ]
     },
     "execution_count": 57,
     "metadata": {},
     "output_type": "execute_result"
    }
   ],
   "source": [
    "#print the confusion matrix using lgd_target_test and pred\n",
    "\n"
   ]
  },
  {
   "cell_type": "code",
   "execution_count": null,
   "id": "fc1ce297",
   "metadata": {
    "id": "fc1ce297",
    "outputId": "61ae3403-23fb-4da3-9060-1c7856293b55"
   },
   "outputs": [
    {
     "data": {
      "text/plain": [
       "0.6878371750858264"
      ]
     },
     "execution_count": 58,
     "metadata": {},
     "output_type": "execute_result"
    }
   ],
   "source": [
    "#accuracy of model\n"
   ]
  },
  {
   "cell_type": "code",
   "execution_count": null,
   "id": "576facf3",
   "metadata": {
    "id": "576facf3"
   },
   "outputs": [],
   "source": [
    "#import pickle\n",
    "import pickle"
   ]
  },
  {
   "cell_type": "code",
   "execution_count": null,
   "id": "8782af36",
   "metadata": {
    "id": "8782af36"
   },
   "outputs": [],
   "source": [
    "#save the reg model\n",
    "pickle.dump(reg,open('lgd_stage_1.sav','wb'))"
   ]
  },
  {
   "cell_type": "markdown",
   "id": "592bb8b9",
   "metadata": {
    "id": "592bb8b9"
   },
   "source": [
    "stage-2...where >0 linear reg to determine how much >0   for recovery rate"
   ]
  },
  {
   "cell_type": "markdown",
   "id": "TIETFj0vRqMX",
   "metadata": {
    "id": "TIETFj0vRqMX"
   },
   "source": [
    "Stage_2:Take those records where recovery_rate_0_1 is 1 and determine the recovery_rate by Linear REG"
   ]
  },
  {
   "cell_type": "code",
   "execution_count": null,
   "id": "aec5e471",
   "metadata": {
    "id": "aec5e471"
   },
   "outputs": [],
   "source": [
    "#take all records from load_data_defaults hwere recovery_rate_0_1 is 1\n",
    "lgd_loan_data_2 = load_data_defaults[load_data_defaults['recovery_rate_0_1'] == 1]"
   ]
  },
  {
   "cell_type": "code",
   "execution_count": null,
   "id": "428d49ae",
   "metadata": {
    "id": "428d49ae",
    "outputId": "ceabcba7-f00f-4d7f-a23b-4377693b56aa"
   },
   "outputs": [
    {
     "data": {
      "text/plain": [
       "(19502, 157)"
      ]
     },
     "execution_count": 66,
     "metadata": {},
     "output_type": "execute_result"
    }
   ],
   "source": [
    "#check the shape of lgd_loan_data_2\n"
   ]
  },
  {
   "cell_type": "code",
   "execution_count": null,
   "id": "3f2ed807",
   "metadata": {
    "id": "3f2ed807"
   },
   "outputs": [],
   "source": [
    "#train test split\n",
    "lgd_input_train_2,lgd_input_test_2,lgd_target_train_2,lgd_target_test_2 = train_test_split(lgd_loan_data_2.drop(['recoveries','recovery_rate','recovery_rate_0_1','CCF'],axis=1),lgd_loan_data_2['recovery_rate'],test_size=0.2,random_state=42)"
   ]
  },
  {
   "cell_type": "code",
   "execution_count": null,
   "id": "580c8473",
   "metadata": {
    "id": "580c8473"
   },
   "outputs": [],
   "source": [
    "#drop the refrence categories from lgd_input_train_2\n",
    "lgd_input_train_2 ="
   ]
  },
  {
   "cell_type": "code",
   "execution_count": null,
   "id": "dc6f02ae",
   "metadata": {
    "id": "dc6f02ae"
   },
   "outputs": [],
   "source": [
    "#import linear regression\n"
   ]
  },
  {
   "cell_type": "code",
   "execution_count": null,
   "id": "4e22535d",
   "metadata": {
    "id": "4e22535d"
   },
   "outputs": [],
   "source": [
    "#create an object  of linear regression\n",
    "lin_reg ="
   ]
  },
  {
   "cell_type": "code",
   "execution_count": null,
   "id": "a9b26776",
   "metadata": {
    "id": "a9b26776",
    "outputId": "46db1456-1a3e-4c88-efe7-88ece7bb9683"
   },
   "outputs": [
    {
     "data": {
      "text/html": [
       "<style>#sk-container-id-2 {color: black;background-color: white;}#sk-container-id-2 pre{padding: 0;}#sk-container-id-2 div.sk-toggleable {background-color: white;}#sk-container-id-2 label.sk-toggleable__label {cursor: pointer;display: block;width: 100%;margin-bottom: 0;padding: 0.3em;box-sizing: border-box;text-align: center;}#sk-container-id-2 label.sk-toggleable__label-arrow:before {content: \"▸\";float: left;margin-right: 0.25em;color: #696969;}#sk-container-id-2 label.sk-toggleable__label-arrow:hover:before {color: black;}#sk-container-id-2 div.sk-estimator:hover label.sk-toggleable__label-arrow:before {color: black;}#sk-container-id-2 div.sk-toggleable__content {max-height: 0;max-width: 0;overflow: hidden;text-align: left;background-color: #f0f8ff;}#sk-container-id-2 div.sk-toggleable__content pre {margin: 0.2em;color: black;border-radius: 0.25em;background-color: #f0f8ff;}#sk-container-id-2 input.sk-toggleable__control:checked~div.sk-toggleable__content {max-height: 200px;max-width: 100%;overflow: auto;}#sk-container-id-2 input.sk-toggleable__control:checked~label.sk-toggleable__label-arrow:before {content: \"▾\";}#sk-container-id-2 div.sk-estimator input.sk-toggleable__control:checked~label.sk-toggleable__label {background-color: #d4ebff;}#sk-container-id-2 div.sk-label input.sk-toggleable__control:checked~label.sk-toggleable__label {background-color: #d4ebff;}#sk-container-id-2 input.sk-hidden--visually {border: 0;clip: rect(1px 1px 1px 1px);clip: rect(1px, 1px, 1px, 1px);height: 1px;margin: -1px;overflow: hidden;padding: 0;position: absolute;width: 1px;}#sk-container-id-2 div.sk-estimator {font-family: monospace;background-color: #f0f8ff;border: 1px dotted black;border-radius: 0.25em;box-sizing: border-box;margin-bottom: 0.5em;}#sk-container-id-2 div.sk-estimator:hover {background-color: #d4ebff;}#sk-container-id-2 div.sk-parallel-item::after {content: \"\";width: 100%;border-bottom: 1px solid gray;flex-grow: 1;}#sk-container-id-2 div.sk-label:hover label.sk-toggleable__label {background-color: #d4ebff;}#sk-container-id-2 div.sk-serial::before {content: \"\";position: absolute;border-left: 1px solid gray;box-sizing: border-box;top: 0;bottom: 0;left: 50%;z-index: 0;}#sk-container-id-2 div.sk-serial {display: flex;flex-direction: column;align-items: center;background-color: white;padding-right: 0.2em;padding-left: 0.2em;position: relative;}#sk-container-id-2 div.sk-item {position: relative;z-index: 1;}#sk-container-id-2 div.sk-parallel {display: flex;align-items: stretch;justify-content: center;background-color: white;position: relative;}#sk-container-id-2 div.sk-item::before, #sk-container-id-2 div.sk-parallel-item::before {content: \"\";position: absolute;border-left: 1px solid gray;box-sizing: border-box;top: 0;bottom: 0;left: 50%;z-index: -1;}#sk-container-id-2 div.sk-parallel-item {display: flex;flex-direction: column;z-index: 1;position: relative;background-color: white;}#sk-container-id-2 div.sk-parallel-item:first-child::after {align-self: flex-end;width: 50%;}#sk-container-id-2 div.sk-parallel-item:last-child::after {align-self: flex-start;width: 50%;}#sk-container-id-2 div.sk-parallel-item:only-child::after {width: 0;}#sk-container-id-2 div.sk-dashed-wrapped {border: 1px dashed gray;margin: 0 0.4em 0.5em 0.4em;box-sizing: border-box;padding-bottom: 0.4em;background-color: white;}#sk-container-id-2 div.sk-label label {font-family: monospace;font-weight: bold;display: inline-block;line-height: 1.2em;}#sk-container-id-2 div.sk-label-container {text-align: center;}#sk-container-id-2 div.sk-container {/* jupyter's `normalize.less` sets `[hidden] { display: none; }` but bootstrap.min.css set `[hidden] { display: none !important; }` so we also need the `!important` here to be able to override the default hidden behavior on the sphinx rendered scikit-learn.org. See: https://github.com/scikit-learn/scikit-learn/issues/21755 */display: inline-block !important;position: relative;}#sk-container-id-2 div.sk-text-repr-fallback {display: none;}</style><div id=\"sk-container-id-2\" class=\"sk-top-container\"><div class=\"sk-text-repr-fallback\"><pre>LinearRegression()</pre><b>In a Jupyter environment, please rerun this cell to show the HTML representation or trust the notebook. <br />On GitHub, the HTML representation is unable to render, please try loading this page with nbviewer.org.</b></div><div class=\"sk-container\" hidden><div class=\"sk-item\"><div class=\"sk-estimator sk-toggleable\"><input class=\"sk-toggleable__control sk-hidden--visually\" id=\"sk-estimator-id-2\" type=\"checkbox\" checked><label for=\"sk-estimator-id-2\" class=\"sk-toggleable__label sk-toggleable__label-arrow\">LinearRegression</label><div class=\"sk-toggleable__content\"><pre>LinearRegression()</pre></div></div></div></div></div>"
      ],
      "text/plain": [
       "LinearRegression()"
      ]
     },
     "execution_count": 71,
     "metadata": {},
     "output_type": "execute_result"
    }
   ],
   "source": [
    "#fit the lin_reg on lgd_input_train_2,lgd_target_train_2\n"
   ]
  },
  {
   "cell_type": "code",
   "execution_count": null,
   "id": "f7e025d7",
   "metadata": {
    "id": "f7e025d7"
   },
   "outputs": [],
   "source": [
    "#drop the refrence categories from lgd_input_test\n",
    "lgd_input_test_2 = "
   ]
  },
  {
   "cell_type": "code",
   "execution_count": null,
   "id": "1c075689",
   "metadata": {
    "id": "1c075689",
    "outputId": "31dbfae6-42b3-4ecb-80a7-d08615842fb5"
   },
   "outputs": [
    {
     "data": {
      "text/plain": [
       "(3901, 131)"
      ]
     },
     "execution_count": 74,
     "metadata": {},
     "output_type": "execute_result"
    }
   ],
   "source": [
    "#check the shape of lgd_input_test_2...make sure the number of columns are same as that of lgd_input_train_2\n"
   ]
  },
  {
   "cell_type": "code",
   "execution_count": null,
   "id": "9cafc941",
   "metadata": {
    "id": "9cafc941"
   },
   "outputs": [],
   "source": [
    "#predict the results\n",
    "pred_lin = "
   ]
  },
  {
   "cell_type": "code",
   "execution_count": null,
   "id": "b84a4458",
   "metadata": {
    "id": "b84a4458",
    "outputId": "ace41487-02e6-4ecf-e24e-ccc728abec1f"
   },
   "outputs": [
    {
     "data": {
      "text/plain": [
       "array([0.13567379, 0.06718956, 0.09462008, ..., 0.12465915, 0.07248101,\n",
       "       0.08528765])"
      ]
     },
     "execution_count": 76,
     "metadata": {},
     "output_type": "execute_result"
    }
   ],
   "source": [
    "#print the predicted results\n",
    "pred_lin"
   ]
  },
  {
   "cell_type": "code",
   "execution_count": null,
   "id": "83ad20ad",
   "metadata": {
    "id": "83ad20ad",
    "outputId": "0e4b037c-a7dc-42c2-bdd5-113e899cbbb7"
   },
   "outputs": [
    {
     "data": {
      "text/plain": [
       "0.12478323688476278"
      ]
     },
     "execution_count": 77,
     "metadata": {},
     "output_type": "execute_result"
    }
   ],
   "source": [
    "#check the r2_score\n"
   ]
  },
  {
   "cell_type": "code",
   "execution_count": null,
   "id": "78337475",
   "metadata": {
    "id": "78337475",
    "outputId": "17d3ef4f-f4b2-459e-8fc6-28761e9f3c70"
   },
   "outputs": [
    {
     "name": "stderr",
     "output_type": "stream",
     "text": [
      "C:\\Users\\hrith\\Anaconda3\\lib\\site-packages\\seaborn\\distributions.py:2557: FutureWarning: `distplot` is a deprecated function and will be removed in a future version. Please adapt your code to use either `displot` (a figure-level function with similar flexibility) or `histplot` (an axes-level function for histograms).\n",
      "  warnings.warn(msg, FutureWarning)\n"
     ]
    },
    {
     "data": {
      "image/png": "[encoded data removed]",
      "text/plain": [
       "<Figure size 432x288 with 1 Axes>"
      ]
     },
     "metadata": {},
     "output_type": "display_data"
    }
   ],
   "source": [
    "#plot the distribution plot for lgd_target_test_2-pred_lin\n",
    "sns.distplot(lgd_target_test_2-pred_lin)\n",
    "\n",
    "plt.show()"
   ]
  },
  {
   "cell_type": "code",
   "execution_count": null,
   "id": "da0f73e3",
   "metadata": {
    "id": "da0f73e3"
   },
   "outputs": [],
   "source": [
    "#save the model using pickle\n",
    "pickle.dump(lin_reg,open('lgd_stage_2.sav','wb'))"
   ]
  },
  {
   "cell_type": "markdown",
   "id": "b61e1b61",
   "metadata": {
    "id": "b61e1b61"
   },
   "source": [
    "# combination of stage1 and stage2"
   ]
  },
  {
   "cell_type": "markdown",
   "id": "KqeA0iaXI5DV",
   "metadata": {
    "id": "KqeA0iaXI5DV"
   },
   "source": [
    "we will multiply the results of stage_1 and stage_2"
   ]
  },
  {
   "cell_type": "code",
   "execution_count": null,
   "id": "52b38a12",
   "metadata": {
    "id": "52b38a12"
   },
   "outputs": [],
   "source": [
    "#using the ln_reg method predict the results of stage_1 test i.e lgd_input_test\n",
    "pred_stage_2_all = lin_reg.predict(lgd_input_test)"
   ]
  },
  {
   "cell_type": "code",
   "execution_count": null,
   "id": "7734605c",
   "metadata": {
    "id": "7734605c",
    "outputId": "26096738-e898-4819-befe-148647125f06"
   },
   "outputs": [
    {
     "data": {
      "text/plain": [
       "array([0.06618586, 0.04787434, 0.15914674, ..., 0.07241948, 0.10081735,\n",
       "       0.14634088])"
      ]
     },
     "execution_count": 81,
     "metadata": {},
     "output_type": "execute_result"
    }
   ],
   "source": [
    "#print the pred_stage_2_all\n",
    "pred_stage_2_all"
   ]
  },
  {
   "cell_type": "code",
   "execution_count": null,
   "id": "bd7f8ff4",
   "metadata": {
    "id": "bd7f8ff4",
    "outputId": "5abb5efd-930c-4ea2-c807-d3213879e7bc"
   },
   "outputs": [
    {
     "name": "stdout",
     "output_type": "stream",
     "text": [
      "8156 8156\n"
     ]
    }
   ],
   "source": [
    "#make sure that the length of pred and pred_stage_2_all is same becoz we will combine the results by multiplying them\n",
    "print(len(pred),len(pred_stage_2_all))"
   ]
  },
  {
   "cell_type": "code",
   "execution_count": null,
   "id": "6e76d999",
   "metadata": {
    "id": "6e76d999"
   },
   "outputs": [],
   "source": [
    "#multiply the stage_1 and stage_2 results\n",
    "pred_lgd_final = "
   ]
  },
  {
   "cell_type": "code",
   "execution_count": null,
   "id": "8bb80168",
   "metadata": {
    "id": "8bb80168",
    "outputId": "e417b2f2-1e3a-4a43-a793-69c6b453f8f4"
   },
   "outputs": [
    {
     "data": {
      "text/plain": [
       "array([0.06618586, 0.        , 0.        , ..., 0.07241948, 0.10081735,\n",
       "       0.        ])"
      ]
     },
     "execution_count": 84,
     "metadata": {},
     "output_type": "execute_result"
    }
   ],
   "source": [
    "#print the pred_lgd_final\n",
    "pred_lgd_final"
   ]
  },
  {
   "cell_type": "code",
   "execution_count": null,
   "id": "7544f2ad",
   "metadata": {
    "id": "7544f2ad",
    "outputId": "d806a82a-0cde-4121-d5cc-a9a3c5ad08a6"
   },
   "outputs": [
    {
     "data": {
      "text/html": [
       "<div>\n",
       "<style scoped>\n",
       "    .dataframe tbody tr th:only-of-type {\n",
       "        vertical-align: middle;\n",
       "    }\n",
       "\n",
       "    .dataframe tbody tr th {\n",
       "        vertical-align: top;\n",
       "    }\n",
       "\n",
       "    .dataframe thead th {\n",
       "        text-align: right;\n",
       "    }\n",
       "</style>\n",
       "<table border=\"1\" class=\"dataframe\">\n",
       "  <thead>\n",
       "    <tr style=\"text-align: right;\">\n",
       "      <th></th>\n",
       "      <th>0</th>\n",
       "    </tr>\n",
       "  </thead>\n",
       "  <tbody>\n",
       "    <tr>\n",
       "      <th>count</th>\n",
       "      <td>8156.000000</td>\n",
       "    </tr>\n",
       "    <tr>\n",
       "      <th>mean</th>\n",
       "      <td>0.052673</td>\n",
       "    </tr>\n",
       "    <tr>\n",
       "      <th>std</th>\n",
       "      <td>0.056646</td>\n",
       "    </tr>\n",
       "    <tr>\n",
       "      <th>min</th>\n",
       "      <td>0.000000</td>\n",
       "    </tr>\n",
       "    <tr>\n",
       "      <th>25%</th>\n",
       "      <td>0.000000</td>\n",
       "    </tr>\n",
       "    <tr>\n",
       "      <th>50%</th>\n",
       "      <td>0.041198</td>\n",
       "    </tr>\n",
       "    <tr>\n",
       "      <th>75%</th>\n",
       "      <td>0.105408</td>\n",
       "    </tr>\n",
       "    <tr>\n",
       "      <th>max</th>\n",
       "      <td>0.294530</td>\n",
       "    </tr>\n",
       "  </tbody>\n",
       "</table>\n",
       "</div>"
      ],
      "text/plain": [
       "                 0\n",
       "count  8156.000000\n",
       "mean      0.052673\n",
       "std       0.056646\n",
       "min       0.000000\n",
       "25%       0.000000\n",
       "50%       0.041198\n",
       "75%       0.105408\n",
       "max       0.294530"
      ]
     },
     "execution_count": 85,
     "metadata": {},
     "output_type": "execute_result"
    }
   ],
   "source": [
    "#check the basic stats of pred_lgd_final\n",
    "pd.DataFrame(pred_lgd_final).describe()"
   ]
  },
  {
   "cell_type": "markdown",
   "id": "50feeea8",
   "metadata": {
    "id": "50feeea8"
   },
   "source": [
    "# EAD MODEL"
   ]
  },
  {
   "cell_type": "code",
   "execution_count": null,
   "id": "4d988b97",
   "metadata": {
    "id": "4d988b97",
    "outputId": "f1933a09-c09f-4279-ece4-0932f5388204"
   },
   "outputs": [
    {
     "data": {
      "text/plain": [
       "Index(['grade:A', 'grade:B', 'grade:C', 'grade:D', 'grade:E', 'grade:F',\n",
       "       'grade:G', 'home_ownership:RENT_OTHER_NONE_ANY', 'home_ownership:OWN',\n",
       "       'home_ownership:MORTGAGE',\n",
       "       ...\n",
       "       'mths_since_last_record:>=127', 'loan_amnt', 'funded_amnt', 'int_rate',\n",
       "       'installment', 'recoveries', 'total_rec_prncp', 'recovery_rate', 'CCF',\n",
       "       'recovery_rate_0_1'],\n",
       "      dtype='object', length=157)"
      ]
     },
     "execution_count": 86,
     "metadata": {},
     "output_type": "execute_result"
    }
   ],
   "source": [
    "#check the columns of load_data_defaults\n"
   ]
  },
  {
   "cell_type": "code",
   "execution_count": null,
   "id": "31bf23a7",
   "metadata": {
    "id": "31bf23a7"
   },
   "outputs": [],
   "source": [
    "#Train test split using the CCF as output feature\n",
    "ead_inputs_train, ead_inputs_test, ead_targets_train, ead_targets_test = train_test_split(load_data_defaults.drop(['recoveries','recovery_rate','recovery_rate_0_1','CCF'],axis=1),load_data_defaults['CCF'],test_size=0.2,random_state=42) "
   ]
  },
  {
   "cell_type": "code",
   "execution_count": null,
   "id": "a9434967",
   "metadata": {
    "id": "a9434967"
   },
   "outputs": [],
   "source": [
    "#drop the refrence categories\n",
    "ead_inputs_train ="
   ]
  },
  {
   "cell_type": "code",
   "execution_count": null,
   "id": "767026e5",
   "metadata": {
    "id": "767026e5",
    "outputId": "3f4fa2df-936e-41ed-c06c-6d91d20404d0"
   },
   "outputs": [
    {
     "data": {
      "text/html": [
       "<style>#sk-container-id-3 {color: black;background-color: white;}#sk-container-id-3 pre{padding: 0;}#sk-container-id-3 div.sk-toggleable {background-color: white;}#sk-container-id-3 label.sk-toggleable__label {cursor: pointer;display: block;width: 100%;margin-bottom: 0;padding: 0.3em;box-sizing: border-box;text-align: center;}#sk-container-id-3 label.sk-toggleable__label-arrow:before {content: \"▸\";float: left;margin-right: 0.25em;color: #696969;}#sk-container-id-3 label.sk-toggleable__label-arrow:hover:before {color: black;}#sk-container-id-3 div.sk-estimator:hover label.sk-toggleable__label-arrow:before {color: black;}#sk-container-id-3 div.sk-toggleable__content {max-height: 0;max-width: 0;overflow: hidden;text-align: left;background-color: #f0f8ff;}#sk-container-id-3 div.sk-toggleable__content pre {margin: 0.2em;color: black;border-radius: 0.25em;background-color: #f0f8ff;}#sk-container-id-3 input.sk-toggleable__control:checked~div.sk-toggleable__content {max-height: 200px;max-width: 100%;overflow: auto;}#sk-container-id-3 input.sk-toggleable__control:checked~label.sk-toggleable__label-arrow:before {content: \"▾\";}#sk-container-id-3 div.sk-estimator input.sk-toggleable__control:checked~label.sk-toggleable__label {background-color: #d4ebff;}#sk-container-id-3 div.sk-label input.sk-toggleable__control:checked~label.sk-toggleable__label {background-color: #d4ebff;}#sk-container-id-3 input.sk-hidden--visually {border: 0;clip: rect(1px 1px 1px 1px);clip: rect(1px, 1px, 1px, 1px);height: 1px;margin: -1px;overflow: hidden;padding: 0;position: absolute;width: 1px;}#sk-container-id-3 div.sk-estimator {font-family: monospace;background-color: #f0f8ff;border: 1px dotted black;border-radius: 0.25em;box-sizing: border-box;margin-bottom: 0.5em;}#sk-container-id-3 div.sk-estimator:hover {background-color: #d4ebff;}#sk-container-id-3 div.sk-parallel-item::after {content: \"\";width: 100%;border-bottom: 1px solid gray;flex-grow: 1;}#sk-container-id-3 div.sk-label:hover label.sk-toggleable__label {background-color: #d4ebff;}#sk-container-id-3 div.sk-serial::before {content: \"\";position: absolute;border-left: 1px solid gray;box-sizing: border-box;top: 0;bottom: 0;left: 50%;z-index: 0;}#sk-container-id-3 div.sk-serial {display: flex;flex-direction: column;align-items: center;background-color: white;padding-right: 0.2em;padding-left: 0.2em;position: relative;}#sk-container-id-3 div.sk-item {position: relative;z-index: 1;}#sk-container-id-3 div.sk-parallel {display: flex;align-items: stretch;justify-content: center;background-color: white;position: relative;}#sk-container-id-3 div.sk-item::before, #sk-container-id-3 div.sk-parallel-item::before {content: \"\";position: absolute;border-left: 1px solid gray;box-sizing: border-box;top: 0;bottom: 0;left: 50%;z-index: -1;}#sk-container-id-3 div.sk-parallel-item {display: flex;flex-direction: column;z-index: 1;position: relative;background-color: white;}#sk-container-id-3 div.sk-parallel-item:first-child::after {align-self: flex-end;width: 50%;}#sk-container-id-3 div.sk-parallel-item:last-child::after {align-self: flex-start;width: 50%;}#sk-container-id-3 div.sk-parallel-item:only-child::after {width: 0;}#sk-container-id-3 div.sk-dashed-wrapped {border: 1px dashed gray;margin: 0 0.4em 0.5em 0.4em;box-sizing: border-box;padding-bottom: 0.4em;background-color: white;}#sk-container-id-3 div.sk-label label {font-family: monospace;font-weight: bold;display: inline-block;line-height: 1.2em;}#sk-container-id-3 div.sk-label-container {text-align: center;}#sk-container-id-3 div.sk-container {/* jupyter's `normalize.less` sets `[hidden] { display: none; }` but bootstrap.min.css set `[hidden] { display: none !important; }` so we also need the `!important` here to be able to override the default hidden behavior on the sphinx rendered scikit-learn.org. See: https://github.com/scikit-learn/scikit-learn/issues/21755 */display: inline-block !important;position: relative;}#sk-container-id-3 div.sk-text-repr-fallback {display: none;}</style><div id=\"sk-container-id-3\" class=\"sk-top-container\"><div class=\"sk-text-repr-fallback\"><pre>LinearRegression()</pre><b>In a Jupyter environment, please rerun this cell to show the HTML representation or trust the notebook. <br />On GitHub, the HTML representation is unable to render, please try loading this page with nbviewer.org.</b></div><div class=\"sk-container\" hidden><div class=\"sk-item\"><div class=\"sk-estimator sk-toggleable\"><input class=\"sk-toggleable__control sk-hidden--visually\" id=\"sk-estimator-id-3\" type=\"checkbox\" checked><label for=\"sk-estimator-id-3\" class=\"sk-toggleable__label sk-toggleable__label-arrow\">LinearRegression</label><div class=\"sk-toggleable__content\"><pre>LinearRegression()</pre></div></div></div></div></div>"
      ],
      "text/plain": [
       "LinearRegression()"
      ]
     },
     "execution_count": 89,
     "metadata": {},
     "output_type": "execute_result"
    }
   ],
   "source": [
    "#create an object of linear regression and fit it on ead_inputs_train,ead_targets_train\n",
    "reg_ead =\n"
   ]
  },
  {
   "cell_type": "code",
   "execution_count": null,
   "id": "6a49000d",
   "metadata": {
    "id": "6a49000d"
   },
   "outputs": [],
   "source": [
    "#drop the refrence categories from ead_inputs_test\n",
    "ead_inputs_test = "
   ]
  },
  {
   "cell_type": "code",
   "execution_count": null,
   "id": "d42c0adb",
   "metadata": {
    "id": "d42c0adb"
   },
   "outputs": [],
   "source": [
    "#predict the results of ead_inputs_test\n",
    "y_pred_test_ead ="
   ]
  },
  {
   "cell_type": "code",
   "execution_count": null,
   "id": "d55201f0",
   "metadata": {
    "id": "d55201f0",
    "outputId": "36d3f7a1-6b11-439b-d2cb-abc41ddbf88c"
   },
   "outputs": [
    {
     "data": {
      "text/plain": [
       "array([0.55958399, 0.37705677, 0.90225855, ..., 0.66296642, 0.89692882,\n",
       "       0.89477416])"
      ]
     },
     "execution_count": 92,
     "metadata": {},
     "output_type": "execute_result"
    }
   ],
   "source": [
    "#print the results\n",
    "y_pred_test_ead"
   ]
  },
  {
   "cell_type": "code",
   "execution_count": null,
   "id": "8932d0a5",
   "metadata": {
    "id": "8932d0a5",
    "outputId": "8a0feeba-4a0f-4869-f898-83ea67f45f13"
   },
   "outputs": [
    {
     "name": "stderr",
     "output_type": "stream",
     "text": [
      "C:\\Users\\hrith\\Anaconda3\\lib\\site-packages\\seaborn\\distributions.py:2557: FutureWarning: `distplot` is a deprecated function and will be removed in a future version. Please adapt your code to use either `displot` (a figure-level function with similar flexibility) or `histplot` (an axes-level function for histograms).\n",
      "  warnings.warn(msg, FutureWarning)\n"
     ]
    },
    {
     "data": {
      "text/plain": [
       "<AxesSubplot:xlabel='CCF', ylabel='Density'>"
      ]
     },
     "execution_count": 94,
     "metadata": {},
     "output_type": "execute_result"
    },
    {
     "data": {
      "image/png": "[encoded data removed]",
      "text/plain": [
       "<Figure size 432x288 with 1 Axes>"
      ]
     },
     "metadata": {},
     "output_type": "display_data"
    }
   ],
   "source": [
    "#plot the distribution plot of ead_targets_test-y_pred_test_ead\n",
    "sns.distplot(ead_targets_test-y_pred_test_ead)"
   ]
  },
  {
   "cell_type": "code",
   "execution_count": null,
   "id": "33ec4798",
   "metadata": {
    "id": "33ec4798",
    "outputId": "0fb584d3-b92d-4ecc-bb74-aaab01af6975"
   },
   "outputs": [
    {
     "data": {
      "text/html": [
       "<div>\n",
       "<style scoped>\n",
       "    .dataframe tbody tr th:only-of-type {\n",
       "        vertical-align: middle;\n",
       "    }\n",
       "\n",
       "    .dataframe tbody tr th {\n",
       "        vertical-align: top;\n",
       "    }\n",
       "\n",
       "    .dataframe thead th {\n",
       "        text-align: right;\n",
       "    }\n",
       "</style>\n",
       "<table border=\"1\" class=\"dataframe\">\n",
       "  <thead>\n",
       "    <tr style=\"text-align: right;\">\n",
       "      <th></th>\n",
       "      <th>0</th>\n",
       "    </tr>\n",
       "  </thead>\n",
       "  <tbody>\n",
       "    <tr>\n",
       "      <th>count</th>\n",
       "      <td>8156.000000</td>\n",
       "    </tr>\n",
       "    <tr>\n",
       "      <th>mean</th>\n",
       "      <td>0.720407</td>\n",
       "    </tr>\n",
       "    <tr>\n",
       "      <th>std</th>\n",
       "      <td>0.174406</td>\n",
       "    </tr>\n",
       "    <tr>\n",
       "      <th>min</th>\n",
       "      <td>-0.602701</td>\n",
       "    </tr>\n",
       "    <tr>\n",
       "      <th>25%</th>\n",
       "      <td>0.634794</td>\n",
       "    </tr>\n",
       "    <tr>\n",
       "      <th>50%</th>\n",
       "      <td>0.731027</td>\n",
       "    </tr>\n",
       "    <tr>\n",
       "      <th>75%</th>\n",
       "      <td>0.832212</td>\n",
       "    </tr>\n",
       "    <tr>\n",
       "      <th>max</th>\n",
       "      <td>1.286389</td>\n",
       "    </tr>\n",
       "  </tbody>\n",
       "</table>\n",
       "</div>"
      ],
      "text/plain": [
       "                 0\n",
       "count  8156.000000\n",
       "mean      0.720407\n",
       "std       0.174406\n",
       "min      -0.602701\n",
       "25%       0.634794\n",
       "50%       0.731027\n",
       "75%       0.832212\n",
       "max       1.286389"
      ]
     },
     "execution_count": 95,
     "metadata": {},
     "output_type": "execute_result"
    }
   ],
   "source": [
    "#chekc the basic stats of y_pred_test_ead\n",
    "pd.DataFrame(y_pred_test_ead).describe()"
   ]
  },
  {
   "cell_type": "markdown",
   "id": "M0HRodUPKXT2",
   "metadata": {
    "id": "M0HRodUPKXT2"
   },
   "source": [
    "We see that some values are negitive and this predicted value is of CCF...so it can't be negitive"
   ]
  },
  {
   "cell_type": "code",
   "execution_count": null,
   "id": "43d3d0d2",
   "metadata": {
    "id": "43d3d0d2"
   },
   "outputs": [],
   "source": [
    "#replace all the negitive values with 0 and all values which are greater than 1 with 1\n",
    "y_pred_test_ead = np.where(y_pred_test_ead < 0,0,y_pred_test_ead)\n",
    "y_pred_test_ead = "
   ]
  },
  {
   "cell_type": "code",
   "execution_count": null,
   "id": "ae19a353",
   "metadata": {
    "id": "ae19a353"
   },
   "outputs": [],
   "source": [
    "#save the EAD model\n",
    "pickle.dump(reg_ead,open('ead_model.sav','wb'))"
   ]
  },
  {
   "cell_type": "code",
   "execution_count": null,
   "id": "22d7e0e7",
   "metadata": {
    "id": "22d7e0e7",
    "outputId": "604ffe8d-74c5-4f8e-d4a6-698755ca5f5e"
   },
   "outputs": [
    {
     "data": {
      "text/html": [
       "<div>\n",
       "<style scoped>\n",
       "    .dataframe tbody tr th:only-of-type {\n",
       "        vertical-align: middle;\n",
       "    }\n",
       "\n",
       "    .dataframe tbody tr th {\n",
       "        vertical-align: top;\n",
       "    }\n",
       "\n",
       "    .dataframe thead th {\n",
       "        text-align: right;\n",
       "    }\n",
       "</style>\n",
       "<table border=\"1\" class=\"dataframe\">\n",
       "  <thead>\n",
       "    <tr style=\"text-align: right;\">\n",
       "      <th></th>\n",
       "      <th>0</th>\n",
       "    </tr>\n",
       "  </thead>\n",
       "  <tbody>\n",
       "    <tr>\n",
       "      <th>count</th>\n",
       "      <td>8156.000000</td>\n",
       "    </tr>\n",
       "    <tr>\n",
       "      <th>mean</th>\n",
       "      <td>0.719043</td>\n",
       "    </tr>\n",
       "    <tr>\n",
       "      <th>std</th>\n",
       "      <td>0.166765</td>\n",
       "    </tr>\n",
       "    <tr>\n",
       "      <th>min</th>\n",
       "      <td>0.000000</td>\n",
       "    </tr>\n",
       "    <tr>\n",
       "      <th>25%</th>\n",
       "      <td>0.634794</td>\n",
       "    </tr>\n",
       "    <tr>\n",
       "      <th>50%</th>\n",
       "      <td>0.731027</td>\n",
       "    </tr>\n",
       "    <tr>\n",
       "      <th>75%</th>\n",
       "      <td>0.832212</td>\n",
       "    </tr>\n",
       "    <tr>\n",
       "      <th>max</th>\n",
       "      <td>1.000000</td>\n",
       "    </tr>\n",
       "  </tbody>\n",
       "</table>\n",
       "</div>"
      ],
      "text/plain": [
       "                 0\n",
       "count  8156.000000\n",
       "mean      0.719043\n",
       "std       0.166765\n",
       "min       0.000000\n",
       "25%       0.634794\n",
       "50%       0.731027\n",
       "75%       0.832212\n",
       "max       1.000000"
      ]
     },
     "execution_count": 98,
     "metadata": {},
     "output_type": "execute_result"
    }
   ],
   "source": [
    "#now again check the basic stats of y_pred_test_ead\n",
    "pd.DataFrame(y_pred_test_ead).describe()"
   ]
  },
  {
   "cell_type": "markdown",
   "id": "ad274483",
   "metadata": {
    "id": "ad274483"
   },
   "source": [
    "# Calculating EL:"
   ]
  },
  {
   "cell_type": "markdown",
   "id": "yjfQev9TK2RQ",
   "metadata": {
    "id": "yjfQev9TK2RQ"
   },
   "source": [
    "### Expected Loss = PD * LGD * EAD"
   ]
  },
  {
   "cell_type": "code",
   "execution_count": null,
   "id": "db6169a9",
   "metadata": {
    "id": "db6169a9",
    "outputId": "1f1d9ca4-532b-4e45-a109-03af861ded83"
   },
   "outputs": [
    {
     "data": {
      "text/plain": [
       "(8156, 131)"
      ]
     },
     "execution_count": 100,
     "metadata": {},
     "output_type": "execute_result"
    }
   ],
   "source": [
    "#check the shape of lgd_input_test\n"
   ]
  },
  {
   "cell_type": "code",
   "execution_count": null,
   "id": "50c6418a",
   "metadata": {
    "id": "50c6418a",
    "outputId": "c119f469-307a-4142-e27c-26f5ed0a3bde"
   },
   "outputs": [
    {
     "data": {
      "text/plain": [
       "(8156,)"
      ]
     },
     "execution_count": 101,
     "metadata": {},
     "output_type": "execute_result"
    }
   ],
   "source": [
    "#check the shape of lgd_target_test\n"
   ]
  },
  {
   "cell_type": "code",
   "execution_count": null,
   "id": "d36d1077",
   "metadata": {
    "id": "d36d1077"
   },
   "outputs": [],
   "source": [
    "#Take a testing sample as lgd_input_test and predict the EXPECTED LOSS\n",
    "testing_sample = lgd_input_test"
   ]
  },
  {
   "cell_type": "code",
   "execution_count": null,
   "id": "2e3671ed",
   "metadata": {
    "id": "2e3671ed",
    "outputId": "86a022fe-3b44-4129-c845-174ad526962f"
   },
   "outputs": [
    {
     "data": {
      "text/plain": [
       "(8156, 131)"
      ]
     },
     "execution_count": 103,
     "metadata": {},
     "output_type": "execute_result"
    }
   ],
   "source": [
    "#check the shape of testing_sample\n"
   ]
  },
  {
   "cell_type": "code",
   "execution_count": null,
   "id": "c864e211",
   "metadata": {
    "id": "c864e211"
   },
   "outputs": [],
   "source": [
    "#create an empty dataframe that will store the final results\n",
    "testing_outcome = pd.DataFrame()"
   ]
  },
  {
   "cell_type": "code",
   "execution_count": null,
   "id": "2d89dcb2",
   "metadata": {
    "id": "2d89dcb2"
   },
   "outputs": [],
   "source": [
    "#create 2 columns for prediction of LGD_stage_1 and LGD_stage_2\n",
    "testing_outcome['recovery_rate_stage_1'] = \n",
    "testing_outcome['recovery_rate_stage_2'] = "
   ]
  },
  {
   "cell_type": "code",
   "execution_count": null,
   "id": "2424425a",
   "metadata": {
    "id": "2424425a"
   },
   "outputs": [],
   "source": [
    "#create a new column recovery_rate that will have the fianl results of LGD_Model i.e the combition of stage_1 and stage_2\n",
    "testing_outcome['recovery_rate'] = "
   ]
  },
  {
   "cell_type": "code",
   "execution_count": null,
   "id": "3a325855",
   "metadata": {
    "id": "3a325855",
    "outputId": "259fcb8c-9f5e-4320-fab7-1149cefd492f"
   },
   "outputs": [
    {
     "data": {
      "text/html": [
       "<div>\n",
       "<style scoped>\n",
       "    .dataframe tbody tr th:only-of-type {\n",
       "        vertical-align: middle;\n",
       "    }\n",
       "\n",
       "    .dataframe tbody tr th {\n",
       "        vertical-align: top;\n",
       "    }\n",
       "\n",
       "    .dataframe thead th {\n",
       "        text-align: right;\n",
       "    }\n",
       "</style>\n",
       "<table border=\"1\" class=\"dataframe\">\n",
       "  <thead>\n",
       "    <tr style=\"text-align: right;\">\n",
       "      <th></th>\n",
       "      <th>recovery_rate_stage_1</th>\n",
       "      <th>recovery_rate_stage_2</th>\n",
       "      <th>recovery_rate</th>\n",
       "    </tr>\n",
       "  </thead>\n",
       "  <tbody>\n",
       "    <tr>\n",
       "      <th>0</th>\n",
       "      <td>1</td>\n",
       "      <td>0.066186</td>\n",
       "      <td>0.066186</td>\n",
       "    </tr>\n",
       "    <tr>\n",
       "      <th>1</th>\n",
       "      <td>0</td>\n",
       "      <td>0.047874</td>\n",
       "      <td>0.000000</td>\n",
       "    </tr>\n",
       "    <tr>\n",
       "      <th>2</th>\n",
       "      <td>0</td>\n",
       "      <td>0.159147</td>\n",
       "      <td>0.000000</td>\n",
       "    </tr>\n",
       "    <tr>\n",
       "      <th>3</th>\n",
       "      <td>1</td>\n",
       "      <td>0.057790</td>\n",
       "      <td>0.057790</td>\n",
       "    </tr>\n",
       "    <tr>\n",
       "      <th>4</th>\n",
       "      <td>0</td>\n",
       "      <td>0.094851</td>\n",
       "      <td>0.000000</td>\n",
       "    </tr>\n",
       "  </tbody>\n",
       "</table>\n",
       "</div>"
      ],
      "text/plain": [
       "   recovery_rate_stage_1  recovery_rate_stage_2  recovery_rate\n",
       "0                      1               0.066186       0.066186\n",
       "1                      0               0.047874       0.000000\n",
       "2                      0               0.159147       0.000000\n",
       "3                      1               0.057790       0.057790\n",
       "4                      0               0.094851       0.000000"
      ]
     },
     "execution_count": 106,
     "metadata": {},
     "output_type": "execute_result"
    }
   ],
   "source": [
    "#check the head of testing_outcome\n"
   ]
  },
  {
   "cell_type": "code",
   "execution_count": null,
   "id": "7e6d622c",
   "metadata": {
    "id": "7e6d622c"
   },
   "outputs": [],
   "source": [
    "#replace all the negitive values in recovery_rate with 0 and all values which are greater than 1 with 1\n",
    "testing_outcome['recovery_rate'] =\n",
    "testing_outcome['recovery_rate'] = "
   ]
  },
  {
   "cell_type": "code",
   "execution_count": null,
   "id": "92e71838",
   "metadata": {
    "id": "92e71838",
    "outputId": "2cff4950-9bbf-4252-cd63-5e8f4fe9c9fa"
   },
   "outputs": [
    {
     "data": {
      "text/html": [
       "<div>\n",
       "<style scoped>\n",
       "    .dataframe tbody tr th:only-of-type {\n",
       "        vertical-align: middle;\n",
       "    }\n",
       "\n",
       "    .dataframe tbody tr th {\n",
       "        vertical-align: top;\n",
       "    }\n",
       "\n",
       "    .dataframe thead th {\n",
       "        text-align: right;\n",
       "    }\n",
       "</style>\n",
       "<table border=\"1\" class=\"dataframe\">\n",
       "  <thead>\n",
       "    <tr style=\"text-align: right;\">\n",
       "      <th></th>\n",
       "      <th>recovery_rate_stage_1</th>\n",
       "      <th>recovery_rate_stage_2</th>\n",
       "      <th>recovery_rate</th>\n",
       "      <th>LGD</th>\n",
       "    </tr>\n",
       "  </thead>\n",
       "  <tbody>\n",
       "    <tr>\n",
       "      <th>0</th>\n",
       "      <td>1</td>\n",
       "      <td>0.066186</td>\n",
       "      <td>0.066186</td>\n",
       "      <td>0.933814</td>\n",
       "    </tr>\n",
       "    <tr>\n",
       "      <th>1</th>\n",
       "      <td>0</td>\n",
       "      <td>0.047874</td>\n",
       "      <td>0.000000</td>\n",
       "      <td>1.000000</td>\n",
       "    </tr>\n",
       "    <tr>\n",
       "      <th>2</th>\n",
       "      <td>0</td>\n",
       "      <td>0.159147</td>\n",
       "      <td>0.000000</td>\n",
       "      <td>1.000000</td>\n",
       "    </tr>\n",
       "    <tr>\n",
       "      <th>3</th>\n",
       "      <td>1</td>\n",
       "      <td>0.057790</td>\n",
       "      <td>0.057790</td>\n",
       "      <td>0.942210</td>\n",
       "    </tr>\n",
       "    <tr>\n",
       "      <th>4</th>\n",
       "      <td>0</td>\n",
       "      <td>0.094851</td>\n",
       "      <td>0.000000</td>\n",
       "      <td>1.000000</td>\n",
       "    </tr>\n",
       "  </tbody>\n",
       "</table>\n",
       "</div>"
      ],
      "text/plain": [
       "   recovery_rate_stage_1  recovery_rate_stage_2  recovery_rate       LGD\n",
       "0                      1               0.066186       0.066186  0.933814\n",
       "1                      0               0.047874       0.000000  1.000000\n",
       "2                      0               0.159147       0.000000  1.000000\n",
       "3                      1               0.057790       0.057790  0.942210\n",
       "4                      0               0.094851       0.000000  1.000000"
      ]
     },
     "execution_count": 109,
     "metadata": {},
     "output_type": "execute_result"
    }
   ],
   "source": [
    "#create a new column LGD in testing_outcome i.e (1-recovery_rate)\n",
    "testing_outcome['LGD'] = \n",
    "testing_outcome.head()"
   ]
  },
  {
   "cell_type": "code",
   "execution_count": null,
   "id": "f0319147",
   "metadata": {
    "id": "f0319147",
    "outputId": "67ea39e1-adf0-4980-e210-caacba98a5c9"
   },
   "outputs": [
    {
     "data": {
      "text/plain": [
       "count    8156.000000\n",
       "mean        0.947327\n",
       "std         0.056646\n",
       "min         0.705470\n",
       "25%         0.894592\n",
       "50%         0.958802\n",
       "75%         1.000000\n",
       "max         1.000000\n",
       "Name: LGD, dtype: float64"
      ]
     },
     "execution_count": 110,
     "metadata": {},
     "output_type": "execute_result"
    }
   ],
   "source": [
    "#check the basic stats of LGD\n"
   ]
  },
  {
   "cell_type": "code",
   "execution_count": null,
   "id": "7b6171b3",
   "metadata": {
    "id": "7b6171b3"
   },
   "outputs": [],
   "source": [
    "#create a new column CCF that will store the predicted results of EAD_Model\n",
    "testing_outcome['CCF'] = "
   ]
  },
  {
   "cell_type": "code",
   "execution_count": null,
   "id": "d19056ff",
   "metadata": {
    "id": "d19056ff",
    "outputId": "5965eb65-dbb3-4fc3-d573-1c6a9d480074"
   },
   "outputs": [
    {
     "data": {
      "text/plain": [
       "count    8156.000000\n",
       "mean        0.720407\n",
       "std         0.174406\n",
       "min        -0.602701\n",
       "25%         0.634794\n",
       "50%         0.731027\n",
       "75%         0.832212\n",
       "max         1.286389\n",
       "Name: CCF, dtype: float64"
      ]
     },
     "execution_count": 112,
     "metadata": {},
     "output_type": "execute_result"
    }
   ],
   "source": [
    "#check the basic stats of CCF\n"
   ]
  },
  {
   "cell_type": "code",
   "execution_count": null,
   "id": "4dcffce6",
   "metadata": {
    "id": "4dcffce6"
   },
   "outputs": [],
   "source": [
    "#replace all the negitive values in CCF with 0 and all values which are greater than 1 with 1\n",
    "testing_outcome['CCF'] =\n",
    "testing_outcome['CCF'] = "
   ]
  },
  {
   "cell_type": "code",
   "execution_count": null,
   "id": "b42014dc",
   "metadata": {
    "id": "b42014dc",
    "outputId": "42b7f455-d174-458d-df3e-790714d13d84"
   },
   "outputs": [
    {
     "data": {
      "text/plain": [
       "count    8156.000000\n",
       "mean        0.719043\n",
       "std         0.166765\n",
       "min         0.000000\n",
       "25%         0.634794\n",
       "50%         0.731027\n",
       "75%         0.832212\n",
       "max         1.000000\n",
       "Name: CCF, dtype: float64"
      ]
     },
     "execution_count": 114,
     "metadata": {},
     "output_type": "execute_result"
    }
   ],
   "source": [
    "#check the basic stats of CCF\n"
   ]
  },
  {
   "cell_type": "code",
   "execution_count": null,
   "id": "463e86b8",
   "metadata": {
    "id": "463e86b8",
    "outputId": "ae482b74-b5c4-416a-aaf4-7a65a5ae583e"
   },
   "outputs": [
    {
     "data": {
      "text/plain": [
       "(8156, 5)"
      ]
     },
     "execution_count": 115,
     "metadata": {},
     "output_type": "execute_result"
    }
   ],
   "source": [
    "#check the shape of testing_outcome\n"
   ]
  },
  {
   "cell_type": "code",
   "execution_count": null,
   "id": "e35fa424",
   "metadata": {
    "id": "e35fa424",
    "outputId": "a3ec10d6-c81e-40e7-b891-bf5b9f0772d4"
   },
   "outputs": [
    {
     "data": {
      "text/plain": [
       "(8156, 131)"
      ]
     },
     "execution_count": 116,
     "metadata": {},
     "output_type": "execute_result"
    }
   ],
   "source": [
    "#check the shape of testing_sample\n"
   ]
  },
  {
   "cell_type": "code",
   "execution_count": null,
   "id": "dcba970c",
   "metadata": {
    "id": "dcba970c"
   },
   "outputs": [],
   "source": [
    "#create a new column EAD i.e (CCF * funded_amt)\n",
    "testing_outcome['EAD'] = testing_outcome['CCF'] * testing_sample['funded_amnt'].values"
   ]
  },
  {
   "cell_type": "code",
   "execution_count": null,
   "id": "84ef9ef3",
   "metadata": {
    "id": "84ef9ef3",
    "outputId": "c09e3c42-f04c-4765-d7e4-05f8da8d75d7"
   },
   "outputs": [
    {
     "data": {
      "text/html": [
       "<div>\n",
       "<style scoped>\n",
       "    .dataframe tbody tr th:only-of-type {\n",
       "        vertical-align: middle;\n",
       "    }\n",
       "\n",
       "    .dataframe tbody tr th {\n",
       "        vertical-align: top;\n",
       "    }\n",
       "\n",
       "    .dataframe thead th {\n",
       "        text-align: right;\n",
       "    }\n",
       "</style>\n",
       "<table border=\"1\" class=\"dataframe\">\n",
       "  <thead>\n",
       "    <tr style=\"text-align: right;\">\n",
       "      <th></th>\n",
       "      <th>recovery_rate_stage_1</th>\n",
       "      <th>recovery_rate_stage_2</th>\n",
       "      <th>recovery_rate</th>\n",
       "      <th>LGD</th>\n",
       "      <th>CCF</th>\n",
       "      <th>EAD</th>\n",
       "    </tr>\n",
       "  </thead>\n",
       "  <tbody>\n",
       "    <tr>\n",
       "      <th>0</th>\n",
       "      <td>1</td>\n",
       "      <td>0.066186</td>\n",
       "      <td>0.066186</td>\n",
       "      <td>0.933814</td>\n",
       "      <td>0.559584</td>\n",
       "      <td>8393.759820</td>\n",
       "    </tr>\n",
       "    <tr>\n",
       "      <th>1</th>\n",
       "      <td>0</td>\n",
       "      <td>0.047874</td>\n",
       "      <td>0.000000</td>\n",
       "      <td>1.000000</td>\n",
       "      <td>0.377057</td>\n",
       "      <td>4524.681273</td>\n",
       "    </tr>\n",
       "    <tr>\n",
       "      <th>2</th>\n",
       "      <td>0</td>\n",
       "      <td>0.159147</td>\n",
       "      <td>0.000000</td>\n",
       "      <td>1.000000</td>\n",
       "      <td>0.902259</td>\n",
       "      <td>15631.629299</td>\n",
       "    </tr>\n",
       "    <tr>\n",
       "      <th>3</th>\n",
       "      <td>1</td>\n",
       "      <td>0.057790</td>\n",
       "      <td>0.057790</td>\n",
       "      <td>0.942210</td>\n",
       "      <td>0.513916</td>\n",
       "      <td>2569.582343</td>\n",
       "    </tr>\n",
       "    <tr>\n",
       "      <th>4</th>\n",
       "      <td>0</td>\n",
       "      <td>0.094851</td>\n",
       "      <td>0.000000</td>\n",
       "      <td>1.000000</td>\n",
       "      <td>0.621515</td>\n",
       "      <td>4739.051819</td>\n",
       "    </tr>\n",
       "  </tbody>\n",
       "</table>\n",
       "</div>"
      ],
      "text/plain": [
       "   recovery_rate_stage_1  recovery_rate_stage_2  recovery_rate       LGD  \\\n",
       "0                      1               0.066186       0.066186  0.933814   \n",
       "1                      0               0.047874       0.000000  1.000000   \n",
       "2                      0               0.159147       0.000000  1.000000   \n",
       "3                      1               0.057790       0.057790  0.942210   \n",
       "4                      0               0.094851       0.000000  1.000000   \n",
       "\n",
       "        CCF           EAD  \n",
       "0  0.559584   8393.759820  \n",
       "1  0.377057   4524.681273  \n",
       "2  0.902259  15631.629299  \n",
       "3  0.513916   2569.582343  \n",
       "4  0.621515   4739.051819  "
      ]
     },
     "execution_count": 118,
     "metadata": {},
     "output_type": "execute_result"
    }
   ],
   "source": [
    "#check the head of testing_outcome\n"
   ]
  },
  {
   "cell_type": "code",
   "execution_count": null,
   "id": "f7dc78e2",
   "metadata": {
    "id": "f7dc78e2",
    "outputId": "237c5d4b-6fdf-44bd-e050-0351988b9f7e"
   },
   "outputs": [
    {
     "data": {
      "text/plain": [
       "count     8156.000000\n",
       "mean     10727.507775\n",
       "std       7520.667245\n",
       "min          0.000000\n",
       "25%       5047.833926\n",
       "50%       8699.416475\n",
       "75%      14500.978291\n",
       "max      35000.000000\n",
       "Name: EAD, dtype: float64"
      ]
     },
     "execution_count": 119,
     "metadata": {},
     "output_type": "execute_result"
    }
   ],
   "source": [
    "#check the basic stats of EAD\n"
   ]
  },
  {
   "cell_type": "markdown",
   "id": "Pt4fzbYRNcJt",
   "metadata": {
    "id": "Pt4fzbYRNcJt"
   },
   "source": [
    "## Calculate results of PD_Model"
   ]
  },
  {
   "cell_type": "code",
   "execution_count": null,
   "id": "d88ef8e0",
   "metadata": {
    "id": "d88ef8e0",
    "outputId": "0dc48054-19af-4ee9-fd05-0b95db4dc277"
   },
   "outputs": [
    {
     "data": {
      "text/plain": [
       "Index(['grade:A', 'grade:B', 'grade:C', 'grade:D', 'grade:E', 'grade:F',\n",
       "       'home_ownership:OWN', 'home_ownership:MORTGAGE', 'addr_state:NM_VA',\n",
       "       'addr_state:OK_TN_MO_LA_MD_NC',\n",
       "       ...\n",
       "       'mths_since_last_delinq:>=57', 'mths_since_last_record:0-90',\n",
       "       'mths_since_last_record:90-120', 'mths_since_last_record:120-127',\n",
       "       'mths_since_last_record:>=127', 'loan_amnt', 'funded_amnt', 'int_rate',\n",
       "       'installment', 'total_rec_prncp'],\n",
       "      dtype='object', length=131)"
      ]
     },
     "execution_count": 122,
     "metadata": {},
     "output_type": "execute_result"
    }
   ],
   "source": [
    "#check the columns of testing_sample\n"
   ]
  },
  {
   "cell_type": "markdown",
   "id": "kKSu0aDWNrye",
   "metadata": {
    "id": "kKSu0aDWNrye"
   },
   "source": [
    "### Make sure you pass only those columns to the PD_Model which you have passed in PD_Model while model training"
   ]
  },
  {
   "cell_type": "code",
   "execution_count": null,
   "id": "7b1f621d",
   "metadata": {
    "id": "7b1f621d"
   },
   "outputs": [],
   "source": [
    "#Drop total_rec_prncp column as we didn't pass this in PD_Model while model training\n",
    "testing_sample.drop('total_rec_prncp',axis=1,inplace=True)"
   ]
  },
  {
   "cell_type": "code",
   "execution_count": null,
   "id": "b6f61857",
   "metadata": {
    "id": "b6f61857"
   },
   "outputs": [],
   "source": [
    "#load the PD_model which we have created Earlier\n",
    "reg_pd = pickle.load(open('pd_model_gradient.sav','rb'))"
   ]
  },
  {
   "cell_type": "code",
   "execution_count": null,
   "id": "e28b11da",
   "metadata": {
    "id": "e28b11da",
    "outputId": "799914ea-95b9-4e62-e85e-9a24852bc130"
   },
   "outputs": [
    {
     "data": {
      "text/plain": [
       "array([0.27016508, 0.22900201, 0.29792318, ..., 0.23569569, 0.24455807,\n",
       "       0.08495798])"
      ]
     },
     "execution_count": 136,
     "metadata": {},
     "output_type": "execute_result"
    }
   ],
   "source": [
    "#predict the results of testing_sample using the PD_model\n",
    "reg_pd.predict_proba(testing_sample)[:][:,0]"
   ]
  },
  {
   "cell_type": "code",
   "execution_count": null,
   "id": "c9a924bf",
   "metadata": {
    "id": "c9a924bf"
   },
   "outputs": [],
   "source": [
    "#predict the predict_proba results of testing_sample using PD_Model and store it in 'PD'\n",
    "testing_outcome['PD'] = "
   ]
  },
  {
   "cell_type": "code",
   "execution_count": null,
   "id": "6ab149a8",
   "metadata": {
    "id": "6ab149a8",
    "outputId": "6600ebdb-48d2-46bd-8a13-aa15aeeaf6db"
   },
   "outputs": [
    {
     "data": {
      "text/html": [
       "<div>\n",
       "<style scoped>\n",
       "    .dataframe tbody tr th:only-of-type {\n",
       "        vertical-align: middle;\n",
       "    }\n",
       "\n",
       "    .dataframe tbody tr th {\n",
       "        vertical-align: top;\n",
       "    }\n",
       "\n",
       "    .dataframe thead th {\n",
       "        text-align: right;\n",
       "    }\n",
       "</style>\n",
       "<table border=\"1\" class=\"dataframe\">\n",
       "  <thead>\n",
       "    <tr style=\"text-align: right;\">\n",
       "      <th></th>\n",
       "      <th>recovery_rate_stage_1</th>\n",
       "      <th>recovery_rate_stage_2</th>\n",
       "      <th>recovery_rate</th>\n",
       "      <th>LGD</th>\n",
       "      <th>CCF</th>\n",
       "      <th>EAD</th>\n",
       "      <th>PD</th>\n",
       "    </tr>\n",
       "  </thead>\n",
       "  <tbody>\n",
       "    <tr>\n",
       "      <th>0</th>\n",
       "      <td>1</td>\n",
       "      <td>0.066186</td>\n",
       "      <td>0.066186</td>\n",
       "      <td>0.933814</td>\n",
       "      <td>0.559584</td>\n",
       "      <td>8393.759820</td>\n",
       "      <td>0.270165</td>\n",
       "    </tr>\n",
       "    <tr>\n",
       "      <th>1</th>\n",
       "      <td>0</td>\n",
       "      <td>0.047874</td>\n",
       "      <td>0.000000</td>\n",
       "      <td>1.000000</td>\n",
       "      <td>0.377057</td>\n",
       "      <td>4524.681273</td>\n",
       "      <td>0.229002</td>\n",
       "    </tr>\n",
       "    <tr>\n",
       "      <th>2</th>\n",
       "      <td>0</td>\n",
       "      <td>0.159147</td>\n",
       "      <td>0.000000</td>\n",
       "      <td>1.000000</td>\n",
       "      <td>0.902259</td>\n",
       "      <td>15631.629299</td>\n",
       "      <td>0.297923</td>\n",
       "    </tr>\n",
       "    <tr>\n",
       "      <th>3</th>\n",
       "      <td>1</td>\n",
       "      <td>0.057790</td>\n",
       "      <td>0.057790</td>\n",
       "      <td>0.942210</td>\n",
       "      <td>0.513916</td>\n",
       "      <td>2569.582343</td>\n",
       "      <td>0.136226</td>\n",
       "    </tr>\n",
       "    <tr>\n",
       "      <th>4</th>\n",
       "      <td>0</td>\n",
       "      <td>0.094851</td>\n",
       "      <td>0.000000</td>\n",
       "      <td>1.000000</td>\n",
       "      <td>0.621515</td>\n",
       "      <td>4739.051819</td>\n",
       "      <td>0.158261</td>\n",
       "    </tr>\n",
       "  </tbody>\n",
       "</table>\n",
       "</div>"
      ],
      "text/plain": [
       "   recovery_rate_stage_1  recovery_rate_stage_2  recovery_rate       LGD  \\\n",
       "0                      1               0.066186       0.066186  0.933814   \n",
       "1                      0               0.047874       0.000000  1.000000   \n",
       "2                      0               0.159147       0.000000  1.000000   \n",
       "3                      1               0.057790       0.057790  0.942210   \n",
       "4                      0               0.094851       0.000000  1.000000   \n",
       "\n",
       "        CCF           EAD        PD  \n",
       "0  0.559584   8393.759820  0.270165  \n",
       "1  0.377057   4524.681273  0.229002  \n",
       "2  0.902259  15631.629299  0.297923  \n",
       "3  0.513916   2569.582343  0.136226  \n",
       "4  0.621515   4739.051819  0.158261  "
      ]
     },
     "execution_count": 138,
     "metadata": {},
     "output_type": "execute_result"
    }
   ],
   "source": [
    "#check the hed of testing_outcome\n"
   ]
  },
  {
   "cell_type": "code",
   "execution_count": null,
   "id": "2e236d74",
   "metadata": {
    "id": "2e236d74",
    "outputId": "617045cf-6328-493d-e345-bd6b7c9b25b7"
   },
   "outputs": [
    {
     "data": {
      "text/plain": [
       "count    8156.000000\n",
       "mean        0.151049\n",
       "std         0.071440\n",
       "min         0.015205\n",
       "25%         0.097416\n",
       "50%         0.140953\n",
       "75%         0.196240\n",
       "max         0.483204\n",
       "Name: PD, dtype: float64"
      ]
     },
     "execution_count": 139,
     "metadata": {},
     "output_type": "execute_result"
    }
   ],
   "source": [
    "#check the basic stats of PD\n"
   ]
  },
  {
   "cell_type": "code",
   "execution_count": null,
   "id": "05ded910",
   "metadata": {
    "id": "05ded910"
   },
   "outputs": [],
   "source": [
    "#create a new column 'EL' i.e Expected_Loss by ('PD' * 'LGD' * 'EAD')\n",
    "testing_outcome['EL'] ="
   ]
  },
  {
   "cell_type": "code",
   "execution_count": null,
   "id": "94f3aace",
   "metadata": {
    "id": "94f3aace",
    "outputId": "488543fb-690e-42cb-be75-2bed8d9e9243"
   },
   "outputs": [
    {
     "data": {
      "text/html": [
       "<div>\n",
       "<style scoped>\n",
       "    .dataframe tbody tr th:only-of-type {\n",
       "        vertical-align: middle;\n",
       "    }\n",
       "\n",
       "    .dataframe tbody tr th {\n",
       "        vertical-align: top;\n",
       "    }\n",
       "\n",
       "    .dataframe thead th {\n",
       "        text-align: right;\n",
       "    }\n",
       "</style>\n",
       "<table border=\"1\" class=\"dataframe\">\n",
       "  <thead>\n",
       "    <tr style=\"text-align: right;\">\n",
       "      <th></th>\n",
       "      <th>recovery_rate_stage_1</th>\n",
       "      <th>recovery_rate_stage_2</th>\n",
       "      <th>recovery_rate</th>\n",
       "      <th>LGD</th>\n",
       "      <th>CCF</th>\n",
       "      <th>EAD</th>\n",
       "      <th>PD</th>\n",
       "      <th>EL</th>\n",
       "    </tr>\n",
       "  </thead>\n",
       "  <tbody>\n",
       "    <tr>\n",
       "      <th>0</th>\n",
       "      <td>1</td>\n",
       "      <td>0.066186</td>\n",
       "      <td>0.066186</td>\n",
       "      <td>0.933814</td>\n",
       "      <td>0.559584</td>\n",
       "      <td>8393.759820</td>\n",
       "      <td>0.270165</td>\n",
       "      <td>2117.611035</td>\n",
       "    </tr>\n",
       "    <tr>\n",
       "      <th>1</th>\n",
       "      <td>0</td>\n",
       "      <td>0.047874</td>\n",
       "      <td>0.000000</td>\n",
       "      <td>1.000000</td>\n",
       "      <td>0.377057</td>\n",
       "      <td>4524.681273</td>\n",
       "      <td>0.229002</td>\n",
       "      <td>1036.161103</td>\n",
       "    </tr>\n",
       "    <tr>\n",
       "      <th>2</th>\n",
       "      <td>0</td>\n",
       "      <td>0.159147</td>\n",
       "      <td>0.000000</td>\n",
       "      <td>1.000000</td>\n",
       "      <td>0.902259</td>\n",
       "      <td>15631.629299</td>\n",
       "      <td>0.297923</td>\n",
       "      <td>4657.024757</td>\n",
       "    </tr>\n",
       "    <tr>\n",
       "      <th>3</th>\n",
       "      <td>1</td>\n",
       "      <td>0.057790</td>\n",
       "      <td>0.057790</td>\n",
       "      <td>0.942210</td>\n",
       "      <td>0.513916</td>\n",
       "      <td>2569.582343</td>\n",
       "      <td>0.136226</td>\n",
       "      <td>329.815100</td>\n",
       "    </tr>\n",
       "    <tr>\n",
       "      <th>4</th>\n",
       "      <td>0</td>\n",
       "      <td>0.094851</td>\n",
       "      <td>0.000000</td>\n",
       "      <td>1.000000</td>\n",
       "      <td>0.621515</td>\n",
       "      <td>4739.051819</td>\n",
       "      <td>0.158261</td>\n",
       "      <td>750.007737</td>\n",
       "    </tr>\n",
       "  </tbody>\n",
       "</table>\n",
       "</div>"
      ],
      "text/plain": [
       "   recovery_rate_stage_1  recovery_rate_stage_2  recovery_rate       LGD  \\\n",
       "0                      1               0.066186       0.066186  0.933814   \n",
       "1                      0               0.047874       0.000000  1.000000   \n",
       "2                      0               0.159147       0.000000  1.000000   \n",
       "3                      1               0.057790       0.057790  0.942210   \n",
       "4                      0               0.094851       0.000000  1.000000   \n",
       "\n",
       "        CCF           EAD        PD           EL  \n",
       "0  0.559584   8393.759820  0.270165  2117.611035  \n",
       "1  0.377057   4524.681273  0.229002  1036.161103  \n",
       "2  0.902259  15631.629299  0.297923  4657.024757  \n",
       "3  0.513916   2569.582343  0.136226   329.815100  \n",
       "4  0.621515   4739.051819  0.158261   750.007737  "
      ]
     },
     "execution_count": 142,
     "metadata": {},
     "output_type": "execute_result"
    }
   ],
   "source": [
    "#check the head of testing_outcome\n"
   ]
  },
  {
   "cell_type": "code",
   "execution_count": null,
   "id": "c9d1355f",
   "metadata": {
    "id": "c9d1355f"
   },
   "outputs": [],
   "source": [
    "#Add the column 'funded_amnt' from testing_sample to testing_outcome\n",
    "testing_outcome['Funded_amt'] = testing_sample['funded_amnt'].values"
   ]
  },
  {
   "cell_type": "code",
   "execution_count": null,
   "id": "740b5d63",
   "metadata": {
    "id": "740b5d63",
    "outputId": "96e1b4bf-db67-4cb1-d09c-52a2db78e52a"
   },
   "outputs": [
    {
     "data": {
      "text/html": [
       "<div>\n",
       "<style scoped>\n",
       "    .dataframe tbody tr th:only-of-type {\n",
       "        vertical-align: middle;\n",
       "    }\n",
       "\n",
       "    .dataframe tbody tr th {\n",
       "        vertical-align: top;\n",
       "    }\n",
       "\n",
       "    .dataframe thead th {\n",
       "        text-align: right;\n",
       "    }\n",
       "</style>\n",
       "<table border=\"1\" class=\"dataframe\">\n",
       "  <thead>\n",
       "    <tr style=\"text-align: right;\">\n",
       "      <th></th>\n",
       "      <th>recovery_rate_stage_1</th>\n",
       "      <th>recovery_rate_stage_2</th>\n",
       "      <th>recovery_rate</th>\n",
       "      <th>LGD</th>\n",
       "      <th>CCF</th>\n",
       "      <th>EAD</th>\n",
       "      <th>PD</th>\n",
       "      <th>EL</th>\n",
       "      <th>Funded_amt</th>\n",
       "    </tr>\n",
       "  </thead>\n",
       "  <tbody>\n",
       "    <tr>\n",
       "      <th>0</th>\n",
       "      <td>1</td>\n",
       "      <td>0.066186</td>\n",
       "      <td>0.066186</td>\n",
       "      <td>0.933814</td>\n",
       "      <td>0.559584</td>\n",
       "      <td>8393.759820</td>\n",
       "      <td>0.270165</td>\n",
       "      <td>2117.611035</td>\n",
       "      <td>15000</td>\n",
       "    </tr>\n",
       "    <tr>\n",
       "      <th>1</th>\n",
       "      <td>0</td>\n",
       "      <td>0.047874</td>\n",
       "      <td>0.000000</td>\n",
       "      <td>1.000000</td>\n",
       "      <td>0.377057</td>\n",
       "      <td>4524.681273</td>\n",
       "      <td>0.229002</td>\n",
       "      <td>1036.161103</td>\n",
       "      <td>12000</td>\n",
       "    </tr>\n",
       "    <tr>\n",
       "      <th>2</th>\n",
       "      <td>0</td>\n",
       "      <td>0.159147</td>\n",
       "      <td>0.000000</td>\n",
       "      <td>1.000000</td>\n",
       "      <td>0.902259</td>\n",
       "      <td>15631.629299</td>\n",
       "      <td>0.297923</td>\n",
       "      <td>4657.024757</td>\n",
       "      <td>17325</td>\n",
       "    </tr>\n",
       "    <tr>\n",
       "      <th>3</th>\n",
       "      <td>1</td>\n",
       "      <td>0.057790</td>\n",
       "      <td>0.057790</td>\n",
       "      <td>0.942210</td>\n",
       "      <td>0.513916</td>\n",
       "      <td>2569.582343</td>\n",
       "      <td>0.136226</td>\n",
       "      <td>329.815100</td>\n",
       "      <td>5000</td>\n",
       "    </tr>\n",
       "    <tr>\n",
       "      <th>4</th>\n",
       "      <td>0</td>\n",
       "      <td>0.094851</td>\n",
       "      <td>0.000000</td>\n",
       "      <td>1.000000</td>\n",
       "      <td>0.621515</td>\n",
       "      <td>4739.051819</td>\n",
       "      <td>0.158261</td>\n",
       "      <td>750.007737</td>\n",
       "      <td>7625</td>\n",
       "    </tr>\n",
       "  </tbody>\n",
       "</table>\n",
       "</div>"
      ],
      "text/plain": [
       "   recovery_rate_stage_1  recovery_rate_stage_2  recovery_rate       LGD  \\\n",
       "0                      1               0.066186       0.066186  0.933814   \n",
       "1                      0               0.047874       0.000000  1.000000   \n",
       "2                      0               0.159147       0.000000  1.000000   \n",
       "3                      1               0.057790       0.057790  0.942210   \n",
       "4                      0               0.094851       0.000000  1.000000   \n",
       "\n",
       "        CCF           EAD        PD           EL  Funded_amt  \n",
       "0  0.559584   8393.759820  0.270165  2117.611035       15000  \n",
       "1  0.377057   4524.681273  0.229002  1036.161103       12000  \n",
       "2  0.902259  15631.629299  0.297923  4657.024757       17325  \n",
       "3  0.513916   2569.582343  0.136226   329.815100        5000  \n",
       "4  0.621515   4739.051819  0.158261   750.007737        7625  "
      ]
     },
     "execution_count": 146,
     "metadata": {},
     "output_type": "execute_result"
    }
   ],
   "source": [
    "#check the head of testing_outcome\n"
   ]
  },
  {
   "cell_type": "code",
   "execution_count": null,
   "id": "2d857f8d",
   "metadata": {
    "id": "2d857f8d",
    "outputId": "898f49b9-67ff-4b16-a560-84bc38b68a88"
   },
   "outputs": [
    {
     "data": {
      "text/html": [
       "<div>\n",
       "<style scoped>\n",
       "    .dataframe tbody tr th:only-of-type {\n",
       "        vertical-align: middle;\n",
       "    }\n",
       "\n",
       "    .dataframe tbody tr th {\n",
       "        vertical-align: top;\n",
       "    }\n",
       "\n",
       "    .dataframe thead th {\n",
       "        text-align: right;\n",
       "    }\n",
       "</style>\n",
       "<table border=\"1\" class=\"dataframe\">\n",
       "  <thead>\n",
       "    <tr style=\"text-align: right;\">\n",
       "      <th></th>\n",
       "      <th>Funded_amt</th>\n",
       "      <th>PD</th>\n",
       "      <th>LGD</th>\n",
       "      <th>EAD</th>\n",
       "      <th>EL</th>\n",
       "    </tr>\n",
       "  </thead>\n",
       "  <tbody>\n",
       "    <tr>\n",
       "      <th>0</th>\n",
       "      <td>15000</td>\n",
       "      <td>0.270165</td>\n",
       "      <td>0.933814</td>\n",
       "      <td>8393.759820</td>\n",
       "      <td>2117.611035</td>\n",
       "    </tr>\n",
       "    <tr>\n",
       "      <th>1</th>\n",
       "      <td>12000</td>\n",
       "      <td>0.229002</td>\n",
       "      <td>1.000000</td>\n",
       "      <td>4524.681273</td>\n",
       "      <td>1036.161103</td>\n",
       "    </tr>\n",
       "    <tr>\n",
       "      <th>2</th>\n",
       "      <td>17325</td>\n",
       "      <td>0.297923</td>\n",
       "      <td>1.000000</td>\n",
       "      <td>15631.629299</td>\n",
       "      <td>4657.024757</td>\n",
       "    </tr>\n",
       "    <tr>\n",
       "      <th>3</th>\n",
       "      <td>5000</td>\n",
       "      <td>0.136226</td>\n",
       "      <td>0.942210</td>\n",
       "      <td>2569.582343</td>\n",
       "      <td>329.815100</td>\n",
       "    </tr>\n",
       "    <tr>\n",
       "      <th>4</th>\n",
       "      <td>7625</td>\n",
       "      <td>0.158261</td>\n",
       "      <td>1.000000</td>\n",
       "      <td>4739.051819</td>\n",
       "      <td>750.007737</td>\n",
       "    </tr>\n",
       "  </tbody>\n",
       "</table>\n",
       "</div>"
      ],
      "text/plain": [
       "   Funded_amt        PD       LGD           EAD           EL\n",
       "0       15000  0.270165  0.933814   8393.759820  2117.611035\n",
       "1       12000  0.229002  1.000000   4524.681273  1036.161103\n",
       "2       17325  0.297923  1.000000  15631.629299  4657.024757\n",
       "3        5000  0.136226  0.942210   2569.582343   329.815100\n",
       "4        7625  0.158261  1.000000   4739.051819   750.007737"
      ]
     },
     "execution_count": 147,
     "metadata": {},
     "output_type": "execute_result"
    }
   ],
   "source": [
    "#Finally, create a new_dataframe testing_outcome_final which will have only 'Funded_amt','PD','LGD','EAD','EL'\n",
    "testing_outcome_final =\n"
   ]
  },
  {
   "cell_type": "markdown",
   "id": "mqy-1fCpQMrG",
   "metadata": {
    "id": "mqy-1fCpQMrG"
   },
   "source": [
    "record:0---When the Funded amount is 15000 the bank suffers a loss of 2117.6 from that customer..\n",
    "\n",
    "record:1---When the Funded amount is 12000 the bank suffers a loss of 1036.1 from that customer..\n",
    "\n",
    "record:3---When the Funded amount is 17325 the bank suffers a loss of 4657.0 from that customer..\n",
    "\n",
    "\n",
    "and so on......\n",
    "\n"
   ]
  },
  {
   "cell_type": "markdown",
   "id": "3OnE1O1cQsd4",
   "metadata": {
    "id": "3OnE1O1cQsd4"
   },
   "source": [
    "## We will get the overall expected_loss suffered by the bank"
   ]
  },
  {
   "cell_type": "code",
   "execution_count": null,
   "id": "c361d9e2",
   "metadata": {
    "id": "c361d9e2",
    "outputId": "e389c54f-5914-4b5e-ccc4-0f042912e0d8"
   },
   "outputs": [
    {
     "data": {
      "text/plain": [
       "0.10892474229367789"
      ]
     },
     "execution_count": 150,
     "metadata": {},
     "output_type": "execute_result"
    }
   ],
   "source": [
    "#Divide the  expected_loss sum by funded_amnt sum\n",
    "testing_outcome_final['EL'].sum()/testing_outcome_final['Funded_amt'].sum()"
   ]
  },
  {
   "cell_type": "markdown",
   "id": "ZyjniZwPPTC1",
   "metadata": {
    "id": "ZyjniZwPPTC1"
   },
   "source": [
    "We observe that the Bank suffers an Expected loss of 10.8% while giving loans to it's customers"
   ]
  },
  {
   "cell_type": "markdown",
   "id": "LXcfIpY0PMav",
   "metadata": {
    "id": "LXcfIpY0PMav"
   },
   "source": [
    "#observed EL is between 2% to 15% based on this banks can be aggressive or lenient while giving loans"
   ]
  },
  {
   "cell_type": "markdown",
   "id": "uRqUv4LVC5Ad",
   "metadata": {
    "id": "uRqUv4LVC5Ad"
   },
   "source": [
    "Thank you!!!!"
   ]
  }
 ],
 "metadata": {
  "colab": {
   "provenance": []
  },
  "kernelspec": {
   "display_name": "Python 3 (ipykernel)",
   "language": "python",
   "name": "python3"
  },
  "language_info": {
   "codemirror_mode": {
    "name": "ipython",
    "version": 3
   },
   "file_extension": ".py",
   "mimetype": "text/x-python",
   "name": "python",
   "nbconvert_exporter": "python",
   "pygments_lexer": "ipython3",
   "version": "3.11.3"
  }
 },
 "nbformat": 4,
 "nbformat_minor": 5
}
