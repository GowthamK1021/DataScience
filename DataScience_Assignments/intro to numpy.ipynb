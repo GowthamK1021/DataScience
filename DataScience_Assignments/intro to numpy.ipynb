{
 "cells": [
  {
   "cell_type": "markdown",
   "id": "d4c51afb",
   "metadata": {},
   "source": [
    "## Intro to Numpy"
   ]
  },
  {
   "cell_type": "code",
   "execution_count": 2,
   "id": "3d7f44b2",
   "metadata": {},
   "outputs": [],
   "source": [
    "import numpy as np"
   ]
  },
  {
   "cell_type": "code",
   "execution_count": 3,
   "id": "b983bc40",
   "metadata": {},
   "outputs": [],
   "source": [
    "arr=np.array([1,2,3])"
   ]
  },
  {
   "cell_type": "code",
   "execution_count": 4,
   "id": "da10cc08",
   "metadata": {},
   "outputs": [
    {
     "data": {
      "text/plain": [
       "array([1, 2, 3])"
      ]
     },
     "execution_count": 4,
     "metadata": {},
     "output_type": "execute_result"
    }
   ],
   "source": [
    "arr"
   ]
  },
  {
   "cell_type": "code",
   "execution_count": 5,
   "id": "d5a72b49",
   "metadata": {},
   "outputs": [
    {
     "data": {
      "text/plain": [
       "numpy.ndarray"
      ]
     },
     "execution_count": 5,
     "metadata": {},
     "output_type": "execute_result"
    }
   ],
   "source": [
    "type(arr)"
   ]
  },
  {
   "cell_type": "code",
   "execution_count": 6,
   "id": "05225a67",
   "metadata": {},
   "outputs": [
    {
     "data": {
      "text/plain": [
       "(3,)"
      ]
     },
     "execution_count": 6,
     "metadata": {},
     "output_type": "execute_result"
    }
   ],
   "source": [
    "arr.shape"
   ]
  },
  {
   "cell_type": "code",
   "execution_count": 7,
   "id": "95f823cc",
   "metadata": {},
   "outputs": [
    {
     "data": {
      "text/plain": [
       "dtype('int32')"
      ]
     },
     "execution_count": 7,
     "metadata": {},
     "output_type": "execute_result"
    }
   ],
   "source": [
    "arr.dtype"
   ]
  },
  {
   "cell_type": "code",
   "execution_count": 9,
   "id": "1cf1209a",
   "metadata": {},
   "outputs": [],
   "source": [
    "arr1=np.ones((2,2,2))"
   ]
  },
  {
   "cell_type": "code",
   "execution_count": 10,
   "id": "912d258b",
   "metadata": {},
   "outputs": [
    {
     "data": {
      "text/plain": [
       "array([1, 2, 3])"
      ]
     },
     "execution_count": 10,
     "metadata": {},
     "output_type": "execute_result"
    }
   ],
   "source": [
    "arr"
   ]
  },
  {
   "cell_type": "code",
   "execution_count": 11,
   "id": "168e3e26",
   "metadata": {},
   "outputs": [
    {
     "data": {
      "text/plain": [
       "array([[[1., 1.],\n",
       "        [1., 1.]],\n",
       "\n",
       "       [[1., 1.],\n",
       "        [1., 1.]]])"
      ]
     },
     "execution_count": 11,
     "metadata": {},
     "output_type": "execute_result"
    }
   ],
   "source": [
    "arr1"
   ]
  },
  {
   "cell_type": "code",
   "execution_count": 13,
   "id": "39d93feb",
   "metadata": {},
   "outputs": [],
   "source": [
    "arr2=np.zeros((3,3,3))"
   ]
  },
  {
   "cell_type": "code",
   "execution_count": 14,
   "id": "66d4f823",
   "metadata": {},
   "outputs": [
    {
     "data": {
      "text/plain": [
       "array([[[0., 0., 0.],\n",
       "        [0., 0., 0.],\n",
       "        [0., 0., 0.]],\n",
       "\n",
       "       [[0., 0., 0.],\n",
       "        [0., 0., 0.],\n",
       "        [0., 0., 0.]],\n",
       "\n",
       "       [[0., 0., 0.],\n",
       "        [0., 0., 0.],\n",
       "        [0., 0., 0.]]])"
      ]
     },
     "execution_count": 14,
     "metadata": {},
     "output_type": "execute_result"
    }
   ],
   "source": [
    "arr2"
   ]
  },
  {
   "cell_type": "code",
   "execution_count": 23,
   "id": "819d9062",
   "metadata": {},
   "outputs": [
    {
     "data": {
      "text/plain": [
       "array([[[1., 1.],\n",
       "        [1., 1.]],\n",
       "\n",
       "       [[1., 1.],\n",
       "        [1., 1.]]])"
      ]
     },
     "execution_count": 23,
     "metadata": {},
     "output_type": "execute_result"
    }
   ],
   "source": [
    "arr1"
   ]
  },
  {
   "cell_type": "code",
   "execution_count": 21,
   "id": "a7400125",
   "metadata": {},
   "outputs": [],
   "source": [
    "import pandas as pd"
   ]
  },
  {
   "cell_type": "code",
   "execution_count": 24,
   "id": "bcd15687",
   "metadata": {},
   "outputs": [],
   "source": [
    "df=pd.DataFrame(arr)"
   ]
  },
  {
   "cell_type": "code",
   "execution_count": 25,
   "id": "48f589ac",
   "metadata": {},
   "outputs": [
    {
     "data": {
      "text/html": [
       "<div>\n",
       "<style scoped>\n",
       "    .dataframe tbody tr th:only-of-type {\n",
       "        vertical-align: middle;\n",
       "    }\n",
       "\n",
       "    .dataframe tbody tr th {\n",
       "        vertical-align: top;\n",
       "    }\n",
       "\n",
       "    .dataframe thead th {\n",
       "        text-align: right;\n",
       "    }\n",
       "</style>\n",
       "<table border=\"1\" class=\"dataframe\">\n",
       "  <thead>\n",
       "    <tr style=\"text-align: right;\">\n",
       "      <th></th>\n",
       "      <th>0</th>\n",
       "    </tr>\n",
       "  </thead>\n",
       "  <tbody>\n",
       "    <tr>\n",
       "      <th>0</th>\n",
       "      <td>1</td>\n",
       "    </tr>\n",
       "    <tr>\n",
       "      <th>1</th>\n",
       "      <td>2</td>\n",
       "    </tr>\n",
       "    <tr>\n",
       "      <th>2</th>\n",
       "      <td>3</td>\n",
       "    </tr>\n",
       "  </tbody>\n",
       "</table>\n",
       "</div>"
      ],
      "text/plain": [
       "   0\n",
       "0  1\n",
       "1  2\n",
       "2  3"
      ]
     },
     "execution_count": 25,
     "metadata": {},
     "output_type": "execute_result"
    }
   ],
   "source": [
    "df"
   ]
  },
  {
   "cell_type": "code",
   "execution_count": 39,
   "id": "ef4c0c19",
   "metadata": {},
   "outputs": [],
   "source": [
    "arn=np.random.randint(0,10,((3,2,3,4)))"
   ]
  },
  {
   "cell_type": "code",
   "execution_count": 40,
   "id": "a5eb7f99",
   "metadata": {},
   "outputs": [
    {
     "data": {
      "text/plain": [
       "array([[[[2, 0, 4, 8],\n",
       "         [7, 1, 4, 9],\n",
       "         [3, 6, 7, 1]],\n",
       "\n",
       "        [[0, 2, 7, 0],\n",
       "         [0, 9, 8, 2],\n",
       "         [0, 5, 5, 0]]],\n",
       "\n",
       "\n",
       "       [[[9, 0, 8, 4],\n",
       "         [5, 1, 4, 0],\n",
       "         [7, 2, 0, 3]],\n",
       "\n",
       "        [[9, 8, 3, 7],\n",
       "         [1, 0, 1, 4],\n",
       "         [6, 1, 0, 1]]],\n",
       "\n",
       "\n",
       "       [[[0, 1, 8, 4],\n",
       "         [1, 6, 8, 5],\n",
       "         [2, 4, 7, 4]],\n",
       "\n",
       "        [[1, 2, 8, 5],\n",
       "         [2, 9, 6, 2],\n",
       "         [5, 7, 7, 5]]]])"
      ]
     },
     "execution_count": 40,
     "metadata": {},
     "output_type": "execute_result"
    }
   ],
   "source": [
    "arn"
   ]
  },
  {
   "cell_type": "code",
   "execution_count": 31,
   "id": "7a952ff6",
   "metadata": {},
   "outputs": [
    {
     "data": {
      "text/plain": [
       "array([[0.07630829, 0.77991879, 0.43840923],\n",
       "       [0.72346518, 0.97798951, 0.53849587],\n",
       "       [0.50112046, 0.07205113, 0.26843898],\n",
       "       [0.4998825 , 0.67923   , 0.80373904],\n",
       "       [0.38094113, 0.06593635, 0.2881456 ],\n",
       "       [0.90959353, 0.21338535, 0.45212396]])"
      ]
     },
     "execution_count": 31,
     "metadata": {},
     "output_type": "execute_result"
    }
   ],
   "source": [
    "np.random.seed(7)\n",
    "r3 = np.random.random((6,3))\n",
    "r3"
   ]
  },
  {
   "cell_type": "code",
   "execution_count": 32,
   "id": "db084113",
   "metadata": {},
   "outputs": [],
   "source": [
    "arn=np.random.randint(0,10,((3,2,4,4)))"
   ]
  },
  {
   "cell_type": "code",
   "execution_count": 33,
   "id": "d9330d5b",
   "metadata": {},
   "outputs": [
    {
     "data": {
      "text/plain": [
       "array([1, 2, 3])"
      ]
     },
     "execution_count": 33,
     "metadata": {},
     "output_type": "execute_result"
    }
   ],
   "source": [
    "arr"
   ]
  },
  {
   "cell_type": "code",
   "execution_count": 34,
   "id": "c8dfdef0",
   "metadata": {},
   "outputs": [
    {
     "data": {
      "text/plain": [
       "array([[[[8, 7, 5, 0],\n",
       "         [0, 2, 8, 9],\n",
       "         [6, 4, 9, 7],\n",
       "         [3, 3, 8, 3]],\n",
       "\n",
       "        [[0, 1, 0, 0],\n",
       "         [6, 7, 7, 9],\n",
       "         [3, 0, 7, 7],\n",
       "         [7, 0, 5, 4]]],\n",
       "\n",
       "\n",
       "       [[[3, 1, 3, 1],\n",
       "         [3, 4, 3, 1],\n",
       "         [9, 5, 9, 1],\n",
       "         [2, 3, 2, 2]],\n",
       "\n",
       "        [[5, 7, 3, 0],\n",
       "         [9, 9, 3, 4],\n",
       "         [5, 3, 0, 4],\n",
       "         [8, 6, 7, 2]]],\n",
       "\n",
       "\n",
       "       [[[7, 3, 8, 6],\n",
       "         [6, 5, 6, 5],\n",
       "         [7, 1, 5, 4],\n",
       "         [4, 9, 9, 0]],\n",
       "\n",
       "        [[6, 2, 6, 8],\n",
       "         [2, 4, 1, 6],\n",
       "         [1, 5, 1, 6],\n",
       "         [9, 8, 6, 5]]]])"
      ]
     },
     "execution_count": 34,
     "metadata": {},
     "output_type": "execute_result"
    }
   ],
   "source": [
    "arn"
   ]
  },
  {
   "cell_type": "code",
   "execution_count": null,
   "id": "7e8c2ff7",
   "metadata": {},
   "outputs": [],
   "source": []
  }
 ],
 "metadata": {
  "kernelspec": {
   "display_name": "Python 3 (ipykernel)",
   "language": "python",
   "name": "python3"
  },
  "language_info": {
   "codemirror_mode": {
    "name": "ipython",
    "version": 3
   },
   "file_extension": ".py",
   "mimetype": "text/x-python",
   "name": "python",
   "nbconvert_exporter": "python",
   "pygments_lexer": "ipython3",
   "version": "3.10.8"
  }
 },
 "nbformat": 4,
 "nbformat_minor": 5
}
